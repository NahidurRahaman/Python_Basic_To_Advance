{
  "nbformat": 4,
  "nbformat_minor": 0,
  "metadata": {
    "colab": {
      "provenance": [],
      "authorship_tag": "ABX9TyPfxeB9K4G6rTvp22qXgqeH",
      "include_colab_link": true
    },
    "kernelspec": {
      "name": "python3",
      "display_name": "Python 3"
    },
    "language_info": {
      "name": "python"
    }
  },
  "cells": [
    {
      "cell_type": "markdown",
      "metadata": {
        "id": "view-in-github",
        "colab_type": "text"
      },
      "source": [
        "<a href=\"https://colab.research.google.com/github/NahidurRahaman/Python_Basic_To_Advance/blob/main/Demo_file.ipynb\" target=\"_parent\"><img src=\"https://colab.research.google.com/assets/colab-badge.svg\" alt=\"Open In Colab\"/></a>"
      ]
    },
    {
      "cell_type": "code",
      "execution_count": 3,
      "metadata": {
        "colab": {
          "base_uri": "https://localhost:8080/"
        },
        "id": "Jefc5uRToTJt",
        "outputId": "5a98a2ba-83c7-4312-ead4-db981a4f2ec8"
      },
      "outputs": [
        {
          "output_type": "stream",
          "name": "stdout",
          "text": [
            "Overwriting test_module.py\n"
          ]
        }
      ],
      "source": [
        "%%writefile test_module.py\n",
        "\n",
        "def greet(name):\n",
        "    print(f'Hello, {name}!')\n",
        "\n",
        "def square(x):\n",
        "    return x**2"
      ]
    },
    {
      "cell_type": "code",
      "source": [],
      "metadata": {
        "id": "kGrKrg4iogLA"
      },
      "execution_count": null,
      "outputs": []
    }
  ]
}