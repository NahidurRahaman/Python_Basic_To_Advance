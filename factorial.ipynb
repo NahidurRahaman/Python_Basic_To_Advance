{
  "nbformat": 4,
  "nbformat_minor": 0,
  "metadata": {
    "colab": {
      "provenance": [],
      "authorship_tag": "ABX9TyPvxSVpi3rQVGIsI8/IJK2k",
      "include_colab_link": true
    },
    "kernelspec": {
      "name": "python3",
      "display_name": "Python 3"
    },
    "language_info": {
      "name": "python"
    }
  },
  "cells": [
    {
      "cell_type": "markdown",
      "metadata": {
        "id": "view-in-github",
        "colab_type": "text"
      },
      "source": [
        "<a href=\"https://colab.research.google.com/github/NahidurRahaman/Python_Basic_To_Advance/blob/main/factorial.ipynb\" target=\"_parent\"><img src=\"https://colab.research.google.com/assets/colab-badge.svg\" alt=\"Open In Colab\"/></a>"
      ]
    },
    {
      "cell_type": "code",
      "execution_count": null,
      "metadata": {
        "id": "vLpNq0MLqEjt"
      },
      "outputs": [],
      "source": [
        "def fact(x):\n",
        "\n",
        "    result = 1\n",
        "\n",
        "    if x==1 or x==0:\n",
        "        print(f'The {x}! is = 1')\n",
        "\n",
        "    else:\n",
        "\n",
        "        for i in range(x):\n",
        "            result = result * (i+1)\n",
        "\n",
        "        return result"
      ]
    },
    {
      "cell_type": "code",
      "source": [
        "fact(5)"
      ],
      "metadata": {
        "colab": {
          "base_uri": "https://localhost:8080/"
        },
        "id": "tM2uexqbqfW_",
        "outputId": "c2dfd66b-e374-411f-f505-0d901d4a8663"
      },
      "execution_count": null,
      "outputs": [
        {
          "output_type": "execute_result",
          "data": {
            "text/plain": [
              "120"
            ]
          },
          "metadata": {},
          "execution_count": 2
        }
      ]
    },
    {
      "cell_type": "code",
      "source": [],
      "metadata": {
        "id": "rCnx2HP9qlQ9"
      },
      "execution_count": null,
      "outputs": []
    }
  ]
}