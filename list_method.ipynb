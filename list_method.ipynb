{
  "nbformat": 4,
  "nbformat_minor": 0,
  "metadata": {
    "colab": {
      "provenance": [],
      "authorship_tag": "ABX9TyO1771zhrNMhy2r85c6gEHJ",
      "include_colab_link": true
    },
    "kernelspec": {
      "name": "python3",
      "display_name": "Python 3"
    },
    "language_info": {
      "name": "python"
    }
  },
  "cells": [
    {
      "cell_type": "markdown",
      "metadata": {
        "id": "view-in-github",
        "colab_type": "text"
      },
      "source": [
        "<a href=\"https://colab.research.google.com/github/NahidurRahaman/Python_Basic_To_Advance/blob/main/list_method.ipynb\" target=\"_parent\"><img src=\"https://colab.research.google.com/assets/colab-badge.svg\" alt=\"Open In Colab\"/></a>"
      ]
    },
    {
      "cell_type": "code",
      "execution_count": 1,
      "metadata": {
        "id": "qz9urnZGSPko"
      },
      "outputs": [],
      "source": [
        "#list\n",
        "list1 = ['ai','dS','CS',150,20,True,[3,4],(1,2)]"
      ]
    },
    {
      "cell_type": "code",
      "source": [
        "list1[-1][0]"
      ],
      "metadata": {
        "colab": {
          "base_uri": "https://localhost:8080/"
        },
        "id": "GpxOGRknhb74",
        "outputId": "0e98bb15-d49e-4e8b-ec24-995b29e3b356"
      },
      "execution_count": 2,
      "outputs": [
        {
          "output_type": "execute_result",
          "data": {
            "text/plain": [
              "1"
            ]
          },
          "metadata": {},
          "execution_count": 2
        }
      ]
    },
    {
      "cell_type": "code",
      "source": [
        "list1[-1][-2]"
      ],
      "metadata": {
        "colab": {
          "base_uri": "https://localhost:8080/"
        },
        "id": "gFe-fInlhiDa",
        "outputId": "2cf229f0-ab71-4401-ffb1-189f2b46b509"
      },
      "execution_count": 3,
      "outputs": [
        {
          "output_type": "execute_result",
          "data": {
            "text/plain": [
              "1"
            ]
          },
          "metadata": {},
          "execution_count": 3
        }
      ]
    },
    {
      "cell_type": "code",
      "source": [
        "# Copy()\n",
        "list2 = list1\n",
        "list2\n"
      ],
      "metadata": {
        "colab": {
          "base_uri": "https://localhost:8080/"
        },
        "id": "aBUS9_gcht-6",
        "outputId": "61a212db-c4e9-4043-aa23-38bdfe5eac47"
      },
      "execution_count": 4,
      "outputs": [
        {
          "output_type": "execute_result",
          "data": {
            "text/plain": [
              "['ai', 'dS', 'CS', 150, 20, True, [3, 4], (1, 2)]"
            ]
          },
          "metadata": {},
          "execution_count": 4
        }
      ]
    },
    {
      "cell_type": "code",
      "source": [
        "list1"
      ],
      "metadata": {
        "colab": {
          "base_uri": "https://localhost:8080/"
        },
        "id": "smS5S3SJh9Gf",
        "outputId": "ed3ac9c6-7c1b-4fcb-f45a-ebefaef075dc"
      },
      "execution_count": 5,
      "outputs": [
        {
          "output_type": "execute_result",
          "data": {
            "text/plain": [
              "['ai', 'dS', 'CS', 150, 20, True, [3, 4], (1, 2)]"
            ]
          },
          "metadata": {},
          "execution_count": 5
        }
      ]
    },
    {
      "cell_type": "code",
      "source": [
        "list3 = list1.copy()"
      ],
      "metadata": {
        "id": "vFBP0furiA-K"
      },
      "execution_count": 6,
      "outputs": []
    },
    {
      "cell_type": "code",
      "source": [
        "list3"
      ],
      "metadata": {
        "colab": {
          "base_uri": "https://localhost:8080/"
        },
        "id": "1Jk8XGDAiEga",
        "outputId": "038d7fc3-adb1-428b-a93a-466d857484e6"
      },
      "execution_count": 7,
      "outputs": [
        {
          "output_type": "execute_result",
          "data": {
            "text/plain": [
              "['ai', 'dS', 'CS', 150, 20, True, [3, 4], (1, 2)]"
            ]
          },
          "metadata": {},
          "execution_count": 7
        }
      ]
    },
    {
      "cell_type": "code",
      "source": [
        "list1[0] = '1000'"
      ],
      "metadata": {
        "id": "YgdzqFJJiGnq"
      },
      "execution_count": 8,
      "outputs": []
    },
    {
      "cell_type": "code",
      "source": [
        "list1"
      ],
      "metadata": {
        "colab": {
          "base_uri": "https://localhost:8080/"
        },
        "id": "7_UM0j9NiKOa",
        "outputId": "2d5faf94-4ce2-4933-9923-36112e377ec8"
      },
      "execution_count": 9,
      "outputs": [
        {
          "output_type": "execute_result",
          "data": {
            "text/plain": [
              "['1000', 'dS', 'CS', 150, 20, True, [3, 4], (1, 2)]"
            ]
          },
          "metadata": {},
          "execution_count": 9
        }
      ]
    },
    {
      "cell_type": "code",
      "source": [
        "list2"
      ],
      "metadata": {
        "colab": {
          "base_uri": "https://localhost:8080/"
        },
        "id": "LcYSD2rUiMuK",
        "outputId": "f5050e37-a519-4d1c-ea03-c8add8c77576"
      },
      "execution_count": 10,
      "outputs": [
        {
          "output_type": "execute_result",
          "data": {
            "text/plain": [
              "['1000', 'dS', 'CS', 150, 20, True, [3, 4], (1, 2)]"
            ]
          },
          "metadata": {},
          "execution_count": 10
        }
      ]
    },
    {
      "cell_type": "code",
      "source": [
        "list3"
      ],
      "metadata": {
        "colab": {
          "base_uri": "https://localhost:8080/"
        },
        "id": "2do_d6oeiQAq",
        "outputId": "31b24b14-e5cf-480b-85aa-0ca7e10247a9"
      },
      "execution_count": 11,
      "outputs": [
        {
          "output_type": "execute_result",
          "data": {
            "text/plain": [
              "['ai', 'dS', 'CS', 150, 20, True, [3, 4], (1, 2)]"
            ]
          },
          "metadata": {},
          "execution_count": 11
        }
      ]
    },
    {
      "cell_type": "code",
      "source": [
        "list3[0] = 'data'"
      ],
      "metadata": {
        "id": "9u6j49j1iXla"
      },
      "execution_count": 12,
      "outputs": []
    },
    {
      "cell_type": "code",
      "source": [
        "list3"
      ],
      "metadata": {
        "colab": {
          "base_uri": "https://localhost:8080/"
        },
        "id": "9bYYRMNXiapX",
        "outputId": "862c818f-5b93-4a0e-bdb4-30e3bddaa2b9"
      },
      "execution_count": 13,
      "outputs": [
        {
          "output_type": "execute_result",
          "data": {
            "text/plain": [
              "['data', 'dS', 'CS', 150, 20, True, [3, 4], (1, 2)]"
            ]
          },
          "metadata": {},
          "execution_count": 13
        }
      ]
    },
    {
      "cell_type": "code",
      "source": [
        "list1"
      ],
      "metadata": {
        "colab": {
          "base_uri": "https://localhost:8080/"
        },
        "id": "4nwPPb2iic2p",
        "outputId": "02bc138a-60a4-489f-bf7d-b7a816cb893c"
      },
      "execution_count": 14,
      "outputs": [
        {
          "output_type": "execute_result",
          "data": {
            "text/plain": [
              "['1000', 'dS', 'CS', 150, 20, True, [3, 4], (1, 2)]"
            ]
          },
          "metadata": {},
          "execution_count": 14
        }
      ]
    },
    {
      "cell_type": "code",
      "source": [
        "# Append()\n",
        "list1.append(28)\n"
      ],
      "metadata": {
        "id": "Rmn3OQASigWp"
      },
      "execution_count": 15,
      "outputs": []
    },
    {
      "cell_type": "code",
      "source": [
        "list1"
      ],
      "metadata": {
        "colab": {
          "base_uri": "https://localhost:8080/"
        },
        "id": "U5KrfOaKmF06",
        "outputId": "68c544a4-7997-4bd6-9e9a-c20e1bf20e9e"
      },
      "execution_count": 16,
      "outputs": [
        {
          "output_type": "execute_result",
          "data": {
            "text/plain": [
              "['1000', 'dS', 'CS', 150, 20, True, [3, 4], (1, 2), 28]"
            ]
          },
          "metadata": {},
          "execution_count": 16
        }
      ]
    },
    {
      "cell_type": "code",
      "source": [
        "l1 = [10,100.30]"
      ],
      "metadata": {
        "id": "OVd31c09mH2Z"
      },
      "execution_count": 17,
      "outputs": []
    },
    {
      "cell_type": "code",
      "source": [
        "l1"
      ],
      "metadata": {
        "colab": {
          "base_uri": "https://localhost:8080/"
        },
        "id": "oOH7NM02mOj4",
        "outputId": "bca411b9-c8da-43ad-a7dd-679f5ba16942"
      },
      "execution_count": 18,
      "outputs": [
        {
          "output_type": "execute_result",
          "data": {
            "text/plain": [
              "[10, 100.3]"
            ]
          },
          "metadata": {},
          "execution_count": 18
        }
      ]
    },
    {
      "cell_type": "code",
      "source": [
        "list1.append(l1)\n",
        "\n"
      ],
      "metadata": {
        "id": "1HA3_RVzmPxJ"
      },
      "execution_count": 19,
      "outputs": []
    },
    {
      "cell_type": "code",
      "source": [
        "list1"
      ],
      "metadata": {
        "colab": {
          "base_uri": "https://localhost:8080/"
        },
        "id": "xaU0SV7XmU9Y",
        "outputId": "d6116aea-7e26-4b30-9701-a663a484c5f3"
      },
      "execution_count": 20,
      "outputs": [
        {
          "output_type": "execute_result",
          "data": {
            "text/plain": [
              "['1000', 'dS', 'CS', 150, 20, True, [3, 4], (1, 2), 28, [10, 100.3]]"
            ]
          },
          "metadata": {},
          "execution_count": 20
        }
      ]
    },
    {
      "cell_type": "code",
      "source": [
        "list1[-1]"
      ],
      "metadata": {
        "colab": {
          "base_uri": "https://localhost:8080/"
        },
        "id": "z8QVrmbxmd35",
        "outputId": "70311550-49ba-47b6-ca03-55f986699d5d"
      },
      "execution_count": 21,
      "outputs": [
        {
          "output_type": "execute_result",
          "data": {
            "text/plain": [
              "[10, 100.3]"
            ]
          },
          "metadata": {},
          "execution_count": 21
        }
      ]
    },
    {
      "cell_type": "code",
      "source": [
        "list1.append({1,2,3,4})"
      ],
      "metadata": {
        "id": "Ar-nRuK3mlcZ"
      },
      "execution_count": 22,
      "outputs": []
    },
    {
      "cell_type": "code",
      "source": [
        "list1"
      ],
      "metadata": {
        "colab": {
          "base_uri": "https://localhost:8080/"
        },
        "id": "-3ElJM43mwuw",
        "outputId": "158a1178-6d80-44ca-eb0b-8d90a776f97a"
      },
      "execution_count": 23,
      "outputs": [
        {
          "output_type": "execute_result",
          "data": {
            "text/plain": [
              "['1000',\n",
              " 'dS',\n",
              " 'CS',\n",
              " 150,\n",
              " 20,\n",
              " True,\n",
              " [3, 4],\n",
              " (1, 2),\n",
              " 28,\n",
              " [10, 100.3],\n",
              " {1, 2, 3, 4}]"
            ]
          },
          "metadata": {},
          "execution_count": 23
        }
      ]
    },
    {
      "cell_type": "code",
      "source": [
        "# Extend()\n",
        "list1.extend(l1)"
      ],
      "metadata": {
        "id": "jdbOKRYAm4yZ"
      },
      "execution_count": 24,
      "outputs": []
    },
    {
      "cell_type": "code",
      "source": [
        "list1"
      ],
      "metadata": {
        "colab": {
          "base_uri": "https://localhost:8080/"
        },
        "id": "mdV62RhtnEdq",
        "outputId": "3bf4a023-b08c-4d76-fb95-cb0275cdb671"
      },
      "execution_count": 25,
      "outputs": [
        {
          "output_type": "execute_result",
          "data": {
            "text/plain": [
              "['1000',\n",
              " 'dS',\n",
              " 'CS',\n",
              " 150,\n",
              " 20,\n",
              " True,\n",
              " [3, 4],\n",
              " (1, 2),\n",
              " 28,\n",
              " [10, 100.3],\n",
              " {1, 2, 3, 4},\n",
              " 10,\n",
              " 100.3]"
            ]
          },
          "metadata": {},
          "execution_count": 25
        }
      ]
    },
    {
      "cell_type": "code",
      "source": [
        "# Insert()\n",
        "list1.insert(0,'FAU')"
      ],
      "metadata": {
        "id": "hVkPaCVpnIBZ"
      },
      "execution_count": 26,
      "outputs": []
    },
    {
      "cell_type": "code",
      "source": [
        "list1"
      ],
      "metadata": {
        "colab": {
          "base_uri": "https://localhost:8080/"
        },
        "id": "-aS1584Mnml5",
        "outputId": "99974803-05b6-4f03-a3da-65806091e43d"
      },
      "execution_count": 27,
      "outputs": [
        {
          "output_type": "execute_result",
          "data": {
            "text/plain": [
              "['FAU',\n",
              " '1000',\n",
              " 'dS',\n",
              " 'CS',\n",
              " 150,\n",
              " 20,\n",
              " True,\n",
              " [3, 4],\n",
              " (1, 2),\n",
              " 28,\n",
              " [10, 100.3],\n",
              " {1, 2, 3, 4},\n",
              " 10,\n",
              " 100.3]"
            ]
          },
          "metadata": {},
          "execution_count": 27
        }
      ]
    },
    {
      "cell_type": "code",
      "source": [
        "list1[0] = 'Germany'"
      ],
      "metadata": {
        "id": "HY_Kn_bInpt5"
      },
      "execution_count": 28,
      "outputs": []
    },
    {
      "cell_type": "code",
      "source": [
        "list1"
      ],
      "metadata": {
        "colab": {
          "base_uri": "https://localhost:8080/"
        },
        "id": "pkBmzsGVnwN7",
        "outputId": "6534ef88-5c25-4a56-ce5e-33ef9a5ba64d"
      },
      "execution_count": 29,
      "outputs": [
        {
          "output_type": "execute_result",
          "data": {
            "text/plain": [
              "['Germany',\n",
              " '1000',\n",
              " 'dS',\n",
              " 'CS',\n",
              " 150,\n",
              " 20,\n",
              " True,\n",
              " [3, 4],\n",
              " (1, 2),\n",
              " 28,\n",
              " [10, 100.3],\n",
              " {1, 2, 3, 4},\n",
              " 10,\n",
              " 100.3]"
            ]
          },
          "metadata": {},
          "execution_count": 29
        }
      ]
    },
    {
      "cell_type": "code",
      "source": [
        "# index()\n",
        "list1.index(150)"
      ],
      "metadata": {
        "colab": {
          "base_uri": "https://localhost:8080/"
        },
        "id": "ICXWEqk2nybG",
        "outputId": "33f15a7a-485a-4a71-c5e6-0ca0a6119e08"
      },
      "execution_count": 30,
      "outputs": [
        {
          "output_type": "execute_result",
          "data": {
            "text/plain": [
              "4"
            ]
          },
          "metadata": {},
          "execution_count": 30
        }
      ]
    },
    {
      "cell_type": "code",
      "source": [
        "list1.index({1, 2, 3, 4})\n"
      ],
      "metadata": {
        "colab": {
          "base_uri": "https://localhost:8080/"
        },
        "id": "fJhlNwj1n7IJ",
        "outputId": "7795a30d-5a97-4abb-9952-0fafe1298fce"
      },
      "execution_count": 31,
      "outputs": [
        {
          "output_type": "execute_result",
          "data": {
            "text/plain": [
              "11"
            ]
          },
          "metadata": {},
          "execution_count": 31
        }
      ]
    },
    {
      "cell_type": "code",
      "source": [
        "# Count()\n",
        "list1.count({1, 2, 3, 4})"
      ],
      "metadata": {
        "colab": {
          "base_uri": "https://localhost:8080/"
        },
        "id": "lMd6miK_n_K5",
        "outputId": "076eb35f-167c-436d-9fbd-07e2a0a22753"
      },
      "execution_count": 32,
      "outputs": [
        {
          "output_type": "execute_result",
          "data": {
            "text/plain": [
              "1"
            ]
          },
          "metadata": {},
          "execution_count": 32
        }
      ]
    },
    {
      "cell_type": "code",
      "source": [
        "list1.count(150)"
      ],
      "metadata": {
        "colab": {
          "base_uri": "https://localhost:8080/"
        },
        "id": "5sRC6dZToGeJ",
        "outputId": "1441d38c-3cb3-41d8-8a73-acf3d2b6ffee"
      },
      "execution_count": 33,
      "outputs": [
        {
          "output_type": "execute_result",
          "data": {
            "text/plain": [
              "1"
            ]
          },
          "metadata": {},
          "execution_count": 33
        }
      ]
    },
    {
      "cell_type": "code",
      "source": [
        "# sort()\n",
        "ls2 = [10,2,6,7,9,100]"
      ],
      "metadata": {
        "id": "jCOxPpt3oLVZ"
      },
      "execution_count": 34,
      "outputs": []
    },
    {
      "cell_type": "code",
      "source": [
        "ls2.sort()\n"
      ],
      "metadata": {
        "id": "yuwuXitgoRna"
      },
      "execution_count": 35,
      "outputs": []
    },
    {
      "cell_type": "code",
      "source": [
        "ls2"
      ],
      "metadata": {
        "colab": {
          "base_uri": "https://localhost:8080/"
        },
        "id": "gF13RKBcoU4Z",
        "outputId": "e3e7741c-c8d8-4a92-866b-5161fc261601"
      },
      "execution_count": 36,
      "outputs": [
        {
          "output_type": "execute_result",
          "data": {
            "text/plain": [
              "[2, 6, 7, 9, 10, 100]"
            ]
          },
          "metadata": {},
          "execution_count": 36
        }
      ]
    },
    {
      "cell_type": "code",
      "source": [
        "# reverse()\n",
        "ls2.reverse()"
      ],
      "metadata": {
        "id": "ZSckA5QyoXsp"
      },
      "execution_count": 37,
      "outputs": []
    },
    {
      "cell_type": "code",
      "source": [
        "ls2"
      ],
      "metadata": {
        "colab": {
          "base_uri": "https://localhost:8080/"
        },
        "id": "OK6ASeXGpLFa",
        "outputId": "9625fd1d-c734-4858-8091-102ea7dd15cb"
      },
      "execution_count": 38,
      "outputs": [
        {
          "output_type": "execute_result",
          "data": {
            "text/plain": [
              "[100, 10, 9, 7, 6, 2]"
            ]
          },
          "metadata": {},
          "execution_count": 38
        }
      ]
    },
    {
      "cell_type": "code",
      "source": [
        "# remove()\n",
        "ls2.remove(100)\n"
      ],
      "metadata": {
        "id": "QVmQOzzApMa5"
      },
      "execution_count": 39,
      "outputs": []
    },
    {
      "cell_type": "code",
      "source": [
        "ls2\n"
      ],
      "metadata": {
        "colab": {
          "base_uri": "https://localhost:8080/"
        },
        "id": "Hui2k4OKpVwJ",
        "outputId": "bfe894d7-ab12-473b-9980-606c720e635f"
      },
      "execution_count": 40,
      "outputs": [
        {
          "output_type": "execute_result",
          "data": {
            "text/plain": [
              "[10, 9, 7, 6, 2]"
            ]
          },
          "metadata": {},
          "execution_count": 40
        }
      ]
    },
    {
      "cell_type": "code",
      "source": [
        "# Pop()\n",
        "ls2.pop(-1)\n"
      ],
      "metadata": {
        "colab": {
          "base_uri": "https://localhost:8080/"
        },
        "id": "vCRxv0-rpb3q",
        "outputId": "c7565f98-378f-454c-bf6a-a43f57d11cbb"
      },
      "execution_count": 41,
      "outputs": [
        {
          "output_type": "execute_result",
          "data": {
            "text/plain": [
              "2"
            ]
          },
          "metadata": {},
          "execution_count": 41
        }
      ]
    },
    {
      "cell_type": "code",
      "source": [
        "ls2\n"
      ],
      "metadata": {
        "colab": {
          "base_uri": "https://localhost:8080/"
        },
        "id": "jaLNgG8gpkTZ",
        "outputId": "c5b23ca5-3ea6-46cc-bf39-0146166d620f"
      },
      "execution_count": 42,
      "outputs": [
        {
          "output_type": "execute_result",
          "data": {
            "text/plain": [
              "[10, 9, 7, 6]"
            ]
          },
          "metadata": {},
          "execution_count": 42
        }
      ]
    },
    {
      "cell_type": "code",
      "source": [
        "del ls2[0] # delete"
      ],
      "metadata": {
        "id": "geWTIqZkpo1J"
      },
      "execution_count": 43,
      "outputs": []
    },
    {
      "cell_type": "code",
      "source": [
        "ls2"
      ],
      "metadata": {
        "colab": {
          "base_uri": "https://localhost:8080/"
        },
        "id": "yspilSV4ptXa",
        "outputId": "0e9d1bc8-a979-4b18-e276-66e550c5fd81"
      },
      "execution_count": 44,
      "outputs": [
        {
          "output_type": "execute_result",
          "data": {
            "text/plain": [
              "[9, 7, 6]"
            ]
          },
          "metadata": {},
          "execution_count": 44
        }
      ]
    },
    {
      "cell_type": "code",
      "source": [
        "ls2.clear()"
      ],
      "metadata": {
        "id": "GfB8P78WpuT5"
      },
      "execution_count": 45,
      "outputs": []
    },
    {
      "cell_type": "code",
      "source": [
        "ls2"
      ],
      "metadata": {
        "colab": {
          "base_uri": "https://localhost:8080/"
        },
        "id": "uay_zHkOpxqZ",
        "outputId": "8ca0d41d-d9e0-4f83-f50a-ce648497f323"
      },
      "execution_count": 46,
      "outputs": [
        {
          "output_type": "execute_result",
          "data": {
            "text/plain": [
              "[]"
            ]
          },
          "metadata": {},
          "execution_count": 46
        }
      ]
    },
    {
      "cell_type": "code",
      "source": [
        "type(ls2)"
      ],
      "metadata": {
        "colab": {
          "base_uri": "https://localhost:8080/"
        },
        "id": "zKVdkMx2pziZ",
        "outputId": "4be5c7b2-a8a1-4864-890e-f3c4a9d9a397"
      },
      "execution_count": 47,
      "outputs": [
        {
          "output_type": "execute_result",
          "data": {
            "text/plain": [
              "list"
            ]
          },
          "metadata": {},
          "execution_count": 47
        }
      ]
    },
    {
      "cell_type": "code",
      "source": [],
      "metadata": {
        "id": "e_lQ_hKyp3rZ"
      },
      "execution_count": null,
      "outputs": []
    }
  ]
}