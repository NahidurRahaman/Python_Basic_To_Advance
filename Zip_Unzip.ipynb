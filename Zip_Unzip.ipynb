{
  "nbformat": 4,
  "nbformat_minor": 0,
  "metadata": {
    "colab": {
      "provenance": [],
      "authorship_tag": "ABX9TyN9WWacUi2uvd0HvXqvq70E",
      "include_colab_link": true
    },
    "kernelspec": {
      "name": "python3",
      "display_name": "Python 3"
    },
    "language_info": {
      "name": "python"
    }
  },
  "cells": [
    {
      "cell_type": "markdown",
      "metadata": {
        "id": "view-in-github",
        "colab_type": "text"
      },
      "source": [
        "<a href=\"https://colab.research.google.com/github/NahidurRahaman/Python_Basic_To_Advance/blob/main/Zip_Unzip.ipynb\" target=\"_parent\"><img src=\"https://colab.research.google.com/assets/colab-badge.svg\" alt=\"Open In Colab\"/></a>"
      ]
    },
    {
      "cell_type": "code",
      "execution_count": 1,
      "metadata": {
        "id": "IcEANUGUQzLn"
      },
      "outputs": [],
      "source": [
        "name = ['shakil', 'mejbah', 'sohan']\n",
        "varsity = ['diu', 'aiub','diu']"
      ]
    },
    {
      "cell_type": "code",
      "source": [
        "zipped = zip(name, varsity)\n",
        "print(zipped)"
      ],
      "metadata": {
        "colab": {
          "base_uri": "https://localhost:8080/"
        },
        "id": "Me6ShHnoRByI",
        "outputId": "aebdeb97-b256-4fb2-b117-6d428afc5de4"
      },
      "execution_count": 2,
      "outputs": [
        {
          "output_type": "stream",
          "name": "stdout",
          "text": [
            "<zip object at 0x7c2987731e40>\n"
          ]
        }
      ]
    },
    {
      "cell_type": "code",
      "source": [
        "zipped = list(zip(name, varsity))\n",
        "print(zipped)"
      ],
      "metadata": {
        "colab": {
          "base_uri": "https://localhost:8080/"
        },
        "id": "WeZKeXthRsvL",
        "outputId": "213fea2a-db8b-444a-c81b-29fb753a6449"
      },
      "execution_count": 3,
      "outputs": [
        {
          "output_type": "stream",
          "name": "stdout",
          "text": [
            "[('shakil', 'diu'), ('mejbah', 'aiub'), ('sohan', 'diu')]\n"
          ]
        }
      ]
    },
    {
      "cell_type": "code",
      "source": [
        "zipped = tuple(zip(name, varsity))\n",
        "print(zipped)\n"
      ],
      "metadata": {
        "colab": {
          "base_uri": "https://localhost:8080/"
        },
        "id": "OERGcH_BRvqi",
        "outputId": "f7d92bcf-e24a-452d-eeaa-f42aa41d5803"
      },
      "execution_count": 4,
      "outputs": [
        {
          "output_type": "stream",
          "name": "stdout",
          "text": [
            "(('shakil', 'diu'), ('mejbah', 'aiub'), ('sohan', 'diu'))\n"
          ]
        }
      ]
    },
    {
      "cell_type": "code",
      "source": [
        "zipped = dict(zip(name, varsity))\n",
        "print(zipped)"
      ],
      "metadata": {
        "colab": {
          "base_uri": "https://localhost:8080/"
        },
        "id": "VAHBlVmfRzXi",
        "outputId": "b80e179a-5ab3-41ce-d59b-128047cfe550"
      },
      "execution_count": 5,
      "outputs": [
        {
          "output_type": "stream",
          "name": "stdout",
          "text": [
            "{'shakil': 'diu', 'mejbah': 'aiub', 'sohan': 'diu'}\n"
          ]
        }
      ]
    },
    {
      "cell_type": "code",
      "source": [
        "zipped.keys()"
      ],
      "metadata": {
        "colab": {
          "base_uri": "https://localhost:8080/"
        },
        "id": "qvP4yZK3R330",
        "outputId": "9cbbfd0a-b8fe-4b8a-e9e6-8970c0722493"
      },
      "execution_count": 6,
      "outputs": [
        {
          "output_type": "execute_result",
          "data": {
            "text/plain": [
              "dict_keys(['shakil', 'mejbah', 'sohan'])"
            ]
          },
          "metadata": {},
          "execution_count": 6
        }
      ]
    },
    {
      "cell_type": "code",
      "source": [
        "zipped.values()"
      ],
      "metadata": {
        "colab": {
          "base_uri": "https://localhost:8080/"
        },
        "id": "QDs9Ye87R6py",
        "outputId": "10f44856-6ac8-40e3-a023-4877a60c1acc"
      },
      "execution_count": 7,
      "outputs": [
        {
          "output_type": "execute_result",
          "data": {
            "text/plain": [
              "dict_values(['diu', 'aiub', 'diu'])"
            ]
          },
          "metadata": {},
          "execution_count": 7
        }
      ]
    },
    {
      "cell_type": "code",
      "source": [
        "zipped = set(zip(name, varsity))\n",
        "print(zipped)\n"
      ],
      "metadata": {
        "colab": {
          "base_uri": "https://localhost:8080/"
        },
        "id": "8744TRd8R9Iy",
        "outputId": "199b8403-3191-4e9b-dca5-c1b7c3d6ca62"
      },
      "execution_count": 8,
      "outputs": [
        {
          "output_type": "stream",
          "name": "stdout",
          "text": [
            "{('mejbah', 'aiub'), ('shakil', 'diu'), ('sohan', 'diu')}\n"
          ]
        }
      ]
    },
    {
      "cell_type": "code",
      "source": [
        "Unzip\n"
      ],
      "metadata": {
        "colab": {
          "base_uri": "https://localhost:8080/",
          "height": 141
        },
        "id": "z4sCECSWSCPx",
        "outputId": "503b24bf-2065-4363-d097-ba4e5cdb3922"
      },
      "execution_count": 9,
      "outputs": [
        {
          "output_type": "error",
          "ename": "NameError",
          "evalue": "name 'Unzip' is not defined",
          "traceback": [
            "\u001b[0;31m---------------------------------------------------------------------------\u001b[0m",
            "\u001b[0;31mNameError\u001b[0m                                 Traceback (most recent call last)",
            "\u001b[0;32m<ipython-input-9-6de1f3219dc6>\u001b[0m in \u001b[0;36m<cell line: 1>\u001b[0;34m()\u001b[0m\n\u001b[0;32m----> 1\u001b[0;31m \u001b[0mUnzip\u001b[0m\u001b[0;34m\u001b[0m\u001b[0;34m\u001b[0m\u001b[0m\n\u001b[0m",
            "\u001b[0;31mNameError\u001b[0m: name 'Unzip' is not defined"
          ]
        }
      ]
    },
    {
      "cell_type": "code",
      "source": [
        "#Unzip\n"
      ],
      "metadata": {
        "id": "oOh-uwwASG4T"
      },
      "execution_count": 10,
      "outputs": []
    },
    {
      "cell_type": "code",
      "source": [
        "zipped = list(zip(name, varsity))\n",
        "print(zipped)"
      ],
      "metadata": {
        "colab": {
          "base_uri": "https://localhost:8080/"
        },
        "id": "li3BvFw2SJzx",
        "outputId": "53041595-82a9-48bf-d048-db786f135370"
      },
      "execution_count": 11,
      "outputs": [
        {
          "output_type": "stream",
          "name": "stdout",
          "text": [
            "[('shakil', 'diu'), ('mejbah', 'aiub'), ('sohan', 'diu')]\n"
          ]
        }
      ]
    },
    {
      "cell_type": "code",
      "source": [
        "name1, varsity1 = zip(*zipped)"
      ],
      "metadata": {
        "id": "LFRka9V2SMbx"
      },
      "execution_count": 12,
      "outputs": []
    },
    {
      "cell_type": "code",
      "source": [
        "name1"
      ],
      "metadata": {
        "colab": {
          "base_uri": "https://localhost:8080/"
        },
        "id": "wSFRWifZSQnQ",
        "outputId": "dcd1de49-2b9b-4632-cb0e-d24127cd0c73"
      },
      "execution_count": 13,
      "outputs": [
        {
          "output_type": "execute_result",
          "data": {
            "text/plain": [
              "('shakil', 'mejbah', 'sohan')"
            ]
          },
          "metadata": {},
          "execution_count": 13
        }
      ]
    },
    {
      "cell_type": "code",
      "source": [
        "varsity1\n"
      ],
      "metadata": {
        "colab": {
          "base_uri": "https://localhost:8080/"
        },
        "id": "dnd-g76ZSTAQ",
        "outputId": "9a784dc9-cc9f-487d-dbc8-c4612e9f2fff"
      },
      "execution_count": 14,
      "outputs": [
        {
          "output_type": "execute_result",
          "data": {
            "text/plain": [
              "('diu', 'aiub', 'diu')"
            ]
          },
          "metadata": {},
          "execution_count": 14
        }
      ]
    },
    {
      "cell_type": "code",
      "source": [],
      "metadata": {
        "id": "yuPQZaz_SVsx"
      },
      "execution_count": null,
      "outputs": []
    }
  ]
}