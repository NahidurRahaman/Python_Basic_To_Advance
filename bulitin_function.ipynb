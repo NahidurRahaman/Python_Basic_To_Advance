{
  "nbformat": 4,
  "nbformat_minor": 0,
  "metadata": {
    "colab": {
      "provenance": [],
      "authorship_tag": "ABX9TyP82Tk8OHPejFCLIajq+Fz+",
      "include_colab_link": true
    },
    "kernelspec": {
      "name": "python3",
      "display_name": "Python 3"
    },
    "language_info": {
      "name": "python"
    }
  },
  "cells": [
    {
      "cell_type": "markdown",
      "metadata": {
        "id": "view-in-github",
        "colab_type": "text"
      },
      "source": [
        "<a href=\"https://colab.research.google.com/github/NahidurRahaman/Python_Basic_To_Advance/blob/main/bulitin_function.ipynb\" target=\"_parent\"><img src=\"https://colab.research.google.com/assets/colab-badge.svg\" alt=\"Open In Colab\"/></a>"
      ]
    },
    {
      "cell_type": "code",
      "execution_count": 1,
      "metadata": {
        "colab": {
          "base_uri": "https://localhost:8080/"
        },
        "id": "BfIOjS4oSeLI",
        "outputId": "faedab2b-19eb-48d8-f401-13a26e29976e"
      },
      "outputs": [
        {
          "output_type": "stream",
          "name": "stdout",
          "text": [
            "Data Science!\n"
          ]
        }
      ],
      "source": [
        "print(\"Data Science!\")"
      ]
    },
    {
      "cell_type": "code",
      "source": [
        "#len()\n",
        "my_list = [1, 2, 3, 4, 5]\n",
        "length = len(my_list)"
      ],
      "metadata": {
        "id": "RwOJMTX3Vvh6"
      },
      "execution_count": 2,
      "outputs": []
    },
    {
      "cell_type": "code",
      "source": [
        "length"
      ],
      "metadata": {
        "colab": {
          "base_uri": "https://localhost:8080/"
        },
        "id": "lHDb9flcV2UU",
        "outputId": "fb469084-f1f6-4764-9a4a-7f635ccdee73"
      },
      "execution_count": 3,
      "outputs": [
        {
          "output_type": "execute_result",
          "data": {
            "text/plain": [
              "5"
            ]
          },
          "metadata": {},
          "execution_count": 3
        }
      ]
    },
    {
      "cell_type": "code",
      "source": [
        "user_input = input(\"Enter something: \")"
      ],
      "metadata": {
        "colab": {
          "base_uri": "https://localhost:8080/"
        },
        "id": "h6CVljt0V6r1",
        "outputId": "ab5c0a53-0e7a-449b-a558-532c292c03d0"
      },
      "execution_count": 4,
      "outputs": [
        {
          "name": "stdout",
          "output_type": "stream",
          "text": [
            "Enter something: 455\n"
          ]
        }
      ]
    },
    {
      "cell_type": "code",
      "source": [
        "#typpe()\n",
        "x = 5\n",
        "type_of_x = type(x)\n",
        "type_of_x"
      ],
      "metadata": {
        "colab": {
          "base_uri": "https://localhost:8080/"
        },
        "id": "PRFG0aQ3V-EU",
        "outputId": "52e65806-5d53-4b28-aae1-d946ff961f5e"
      },
      "execution_count": 5,
      "outputs": [
        {
          "output_type": "execute_result",
          "data": {
            "text/plain": [
              "int"
            ]
          },
          "metadata": {},
          "execution_count": 5
        }
      ]
    },
    {
      "cell_type": "code",
      "source": [
        "#int(), float(), str():\n",
        "num_str = \"42\"\n",
        "num_int = int(num_str)\n",
        "num_int"
      ],
      "metadata": {
        "colab": {
          "base_uri": "https://localhost:8080/"
        },
        "id": "cZiej-xYWF6U",
        "outputId": "75fb8a49-da1b-4e69-fed7-cfe68686803f"
      },
      "execution_count": 6,
      "outputs": [
        {
          "output_type": "execute_result",
          "data": {
            "text/plain": [
              "42"
            ]
          },
          "metadata": {},
          "execution_count": 6
        }
      ]
    },
    {
      "cell_type": "code",
      "source": [
        "float(num_int)"
      ],
      "metadata": {
        "colab": {
          "base_uri": "https://localhost:8080/"
        },
        "id": "7pCPeMUKWOkT",
        "outputId": "640765c3-37e8-4c45-be3b-e5babb60c665"
      },
      "execution_count": 7,
      "outputs": [
        {
          "output_type": "execute_result",
          "data": {
            "text/plain": [
              "42.0"
            ]
          },
          "metadata": {},
          "execution_count": 7
        }
      ]
    },
    {
      "cell_type": "code",
      "source": [
        "#range():\n",
        "numbers = list(range(1, 6))  # creates a list [1, 2, 3, 4, 5]\n",
        "numbers"
      ],
      "metadata": {
        "colab": {
          "base_uri": "https://localhost:8080/"
        },
        "id": "cxK-muzfWR5T",
        "outputId": "112f195c-c9d0-4fbd-a272-05e975ab486c"
      },
      "execution_count": 8,
      "outputs": [
        {
          "output_type": "execute_result",
          "data": {
            "text/plain": [
              "[1, 2, 3, 4, 5]"
            ]
          },
          "metadata": {},
          "execution_count": 8
        }
      ]
    },
    {
      "cell_type": "code",
      "source": [
        "#sum(): Returns the sum of all elements in an iterable.\n",
        "my_list = [1, 2, 3, 4, 5]\n",
        "total = sum(my_list)\n",
        "total"
      ],
      "metadata": {
        "colab": {
          "base_uri": "https://localhost:8080/"
        },
        "id": "8wPejvhyWZ70",
        "outputId": "e18ebae9-31d0-4c25-fd36-e886b246b0b2"
      },
      "execution_count": 9,
      "outputs": [
        {
          "output_type": "execute_result",
          "data": {
            "text/plain": [
              "15"
            ]
          },
          "metadata": {},
          "execution_count": 9
        }
      ]
    },
    {
      "cell_type": "code",
      "source": [
        "#max(), min(): Returns the maximum or minimum value from an iterable.\n",
        "numbers = [3, 1, 4, 1, 5, 9, 2]\n",
        "max_val = max(numbers)\n",
        "min_val = min(numbers)"
      ],
      "metadata": {
        "id": "vt33TrUaWeXk"
      },
      "execution_count": 10,
      "outputs": []
    },
    {
      "cell_type": "code",
      "source": [
        "max_val\n"
      ],
      "metadata": {
        "colab": {
          "base_uri": "https://localhost:8080/"
        },
        "id": "tfqpWdSlWnXk",
        "outputId": "6a729005-e67d-463d-baf5-9bf8ddcbf7e8"
      },
      "execution_count": 12,
      "outputs": [
        {
          "output_type": "execute_result",
          "data": {
            "text/plain": [
              "9"
            ]
          },
          "metadata": {},
          "execution_count": 12
        }
      ]
    },
    {
      "cell_type": "code",
      "source": [
        "min_val"
      ],
      "metadata": {
        "colab": {
          "base_uri": "https://localhost:8080/"
        },
        "id": "CdTojn-qWrhU",
        "outputId": "ce663444-8790-4fb1-c5d1-81be3dd20355"
      },
      "execution_count": 13,
      "outputs": [
        {
          "output_type": "execute_result",
          "data": {
            "text/plain": [
              "1"
            ]
          },
          "metadata": {},
          "execution_count": 13
        }
      ]
    },
    {
      "cell_type": "code",
      "source": [
        "#abs(): Returns the absolute value of a number.\n",
        "absolute_value = abs(-10)\n",
        "absolute_value"
      ],
      "metadata": {
        "colab": {
          "base_uri": "https://localhost:8080/"
        },
        "id": "tCIAgeyjWuxj",
        "outputId": "0c7cdc68-cacd-4615-936a-225441de65d8"
      },
      "execution_count": 14,
      "outputs": [
        {
          "output_type": "execute_result",
          "data": {
            "text/plain": [
              "10"
            ]
          },
          "metadata": {},
          "execution_count": 14
        }
      ]
    },
    {
      "cell_type": "code",
      "source": [
        "#round(): Rounds a floating-point number to a specified number of decimals.\n",
        "rounded_num = round(3.14159, 2)  # rounds to 2 decimal places\n",
        "rounded_num"
      ],
      "metadata": {
        "colab": {
          "base_uri": "https://localhost:8080/"
        },
        "id": "EQWicJFLWy9j",
        "outputId": "f1d7c3fd-77b3-4b07-9d53-f81c6cf32b91"
      },
      "execution_count": 15,
      "outputs": [
        {
          "output_type": "execute_result",
          "data": {
            "text/plain": [
              "3.14"
            ]
          },
          "metadata": {},
          "execution_count": 15
        }
      ]
    },
    {
      "cell_type": "code",
      "source": [
        "#sorted(): Returns a new sorted list from the elements of an iterable.\n",
        "numbers = [3, 1, 4, 1, 5, 9, 2]\n",
        "sorted_numbers = sorted(numbers)\n",
        "sorted_numbers"
      ],
      "metadata": {
        "colab": {
          "base_uri": "https://localhost:8080/"
        },
        "id": "msoIPTW3W3gj",
        "outputId": "18e2ddeb-8897-4048-e26d-f353a3123fc7"
      },
      "execution_count": 17,
      "outputs": [
        {
          "output_type": "execute_result",
          "data": {
            "text/plain": [
              "[1, 1, 2, 3, 4, 5, 9]"
            ]
          },
          "metadata": {},
          "execution_count": 17
        }
      ]
    },
    {
      "cell_type": "code",
      "source": [
        "#any(), all(): Returns True if any or all elements in an iterable are true.\n",
        "bool_list = [True, False, True, True, False]\n",
        "any_true = any(bool_list)"
      ],
      "metadata": {
        "id": "u0-5gnfVW6nz"
      },
      "execution_count": 18,
      "outputs": []
    },
    {
      "cell_type": "code",
      "source": [
        "any_true"
      ],
      "metadata": {
        "colab": {
          "base_uri": "https://localhost:8080/"
        },
        "id": "fQjG1FsDXIx1",
        "outputId": "92336311-7adc-4e6e-b9db-95486afa66da"
      },
      "execution_count": 19,
      "outputs": [
        {
          "output_type": "execute_result",
          "data": {
            "text/plain": [
              "True"
            ]
          },
          "metadata": {},
          "execution_count": 19
        }
      ]
    },
    {
      "cell_type": "code",
      "source": [
        "#str.join(): Joins elements of an iterable with a string as a separator.\n",
        "my_list = [\"apple\", \"banana\", \"orange\"]\n",
        "joined_str = \" ; \".join(my_list)\n",
        "joined_str"
      ],
      "metadata": {
        "colab": {
          "base_uri": "https://localhost:8080/",
          "height": 35
        },
        "id": "JS4d0B97XLUj",
        "outputId": "19798da3-8b3f-48a7-9927-ff670c9c6ecc"
      },
      "execution_count": 20,
      "outputs": [
        {
          "output_type": "execute_result",
          "data": {
            "text/plain": [
              "'apple ; banana ; orange'"
            ],
            "application/vnd.google.colaboratory.intrinsic+json": {
              "type": "string"
            }
          },
          "metadata": {},
          "execution_count": 20
        }
      ]
    },
    {
      "cell_type": "code",
      "source": [
        "#str.lower(), str.upper(): Converts a string to lowercase or uppercase.\n",
        "my_string = \"Hello, World!\"\n",
        "lower_case = my_string.lower()\n",
        "upper_case = my_string.upper()"
      ],
      "metadata": {
        "id": "bE3GtUSPXUqE"
      },
      "execution_count": 21,
      "outputs": []
    },
    {
      "cell_type": "code",
      "source": [
        "lower_case"
      ],
      "metadata": {
        "colab": {
          "base_uri": "https://localhost:8080/",
          "height": 35
        },
        "id": "fMLFOWMDXc4y",
        "outputId": "0463d12e-32ce-4907-b8c8-9525bcd75edd"
      },
      "execution_count": 22,
      "outputs": [
        {
          "output_type": "execute_result",
          "data": {
            "text/plain": [
              "'hello, world!'"
            ],
            "application/vnd.google.colaboratory.intrinsic+json": {
              "type": "string"
            }
          },
          "metadata": {},
          "execution_count": 22
        }
      ]
    },
    {
      "cell_type": "code",
      "source": [
        "upper_case"
      ],
      "metadata": {
        "colab": {
          "base_uri": "https://localhost:8080/",
          "height": 35
        },
        "id": "V0IDd3P9Xfhi",
        "outputId": "1c169b72-d073-42f1-fba3-9b7a216fb219"
      },
      "execution_count": 23,
      "outputs": [
        {
          "output_type": "execute_result",
          "data": {
            "text/plain": [
              "'HELLO, WORLD!'"
            ],
            "application/vnd.google.colaboratory.intrinsic+json": {
              "type": "string"
            }
          },
          "metadata": {},
          "execution_count": 23
        }
      ]
    },
    {
      "cell_type": "code",
      "source": [
        "#list(), tuple(): Converts an iterable to a list or tuple.\n",
        "my_tuple = (1, 2, 3)\n",
        "tuple_to_list = list(my_tuple)\n",
        "tuple_to_list"
      ],
      "metadata": {
        "colab": {
          "base_uri": "https://localhost:8080/"
        },
        "id": "z6ZZfdq2XiCz",
        "outputId": "1e1c2152-b015-4ca0-ba3f-8307bc1b3860"
      },
      "execution_count": 24,
      "outputs": [
        {
          "output_type": "execute_result",
          "data": {
            "text/plain": [
              "[1, 2, 3]"
            ]
          },
          "metadata": {},
          "execution_count": 24
        }
      ]
    },
    {
      "cell_type": "code",
      "source": [
        "tuple(tuple_to_list)"
      ],
      "metadata": {
        "colab": {
          "base_uri": "https://localhost:8080/"
        },
        "id": "ZTmd6egNXo2D",
        "outputId": "4c80f3bd-084e-44e0-973c-cfd306bcf758"
      },
      "execution_count": 25,
      "outputs": [
        {
          "output_type": "execute_result",
          "data": {
            "text/plain": [
              "(1, 2, 3)"
            ]
          },
          "metadata": {},
          "execution_count": 25
        }
      ]
    },
    {
      "cell_type": "code",
      "source": [
        "#dict(): Creates a dictionary.\n",
        "my_dict = dict(name=\"John\", age=25)\n",
        "my_dict"
      ],
      "metadata": {
        "colab": {
          "base_uri": "https://localhost:8080/"
        },
        "id": "ksF2lj2WXs7T",
        "outputId": "d9866440-412c-4db0-8a05-81023546b6fe"
      },
      "execution_count": 26,
      "outputs": [
        {
          "output_type": "execute_result",
          "data": {
            "text/plain": [
              "{'name': 'John', 'age': 25}"
            ]
          },
          "metadata": {},
          "execution_count": 26
        }
      ]
    },
    {
      "cell_type": "code",
      "source": [
        "my_dict.keys()"
      ],
      "metadata": {
        "colab": {
          "base_uri": "https://localhost:8080/"
        },
        "id": "9QcfDYPkXxZC",
        "outputId": "1a8221c1-74dc-4c58-fe2c-31eb4da875c2"
      },
      "execution_count": 27,
      "outputs": [
        {
          "output_type": "execute_result",
          "data": {
            "text/plain": [
              "dict_keys(['name', 'age'])"
            ]
          },
          "metadata": {},
          "execution_count": 27
        }
      ]
    },
    {
      "cell_type": "code",
      "source": [
        "my_dict.values()"
      ],
      "metadata": {
        "colab": {
          "base_uri": "https://localhost:8080/"
        },
        "id": "hwrS3CgDYg6D",
        "outputId": "7a55067a-4d11-4412-b1af-c8d836a880e3"
      },
      "execution_count": 28,
      "outputs": [
        {
          "output_type": "execute_result",
          "data": {
            "text/plain": [
              "dict_values(['John', 25])"
            ]
          },
          "metadata": {},
          "execution_count": 28
        }
      ]
    },
    {
      "cell_type": "code",
      "source": [
        "#set(): Creates a set.\n",
        "my_set = set([1, 2, 3, 3, 4])\n",
        "my_set"
      ],
      "metadata": {
        "colab": {
          "base_uri": "https://localhost:8080/"
        },
        "id": "RgadS7RUYj2E",
        "outputId": "2ec9be65-4897-4857-ba04-eb8da7020bcf"
      },
      "execution_count": 29,
      "outputs": [
        {
          "output_type": "execute_result",
          "data": {
            "text/plain": [
              "{1, 2, 3, 4}"
            ]
          },
          "metadata": {},
          "execution_count": 29
        }
      ]
    },
    {
      "cell_type": "code",
      "source": [
        "#enumerate(): Returns tuples with the index and corresponding element.\n",
        "my_list = [\"a\", \"b\", \"c\"]\n",
        "for index, value in enumerate(my_list):\n",
        "    print(index, value)"
      ],
      "metadata": {
        "colab": {
          "base_uri": "https://localhost:8080/"
        },
        "id": "_6WAfrS7YpTD",
        "outputId": "3b10af2a-a641-46d0-e42a-d36d07cbe3b0"
      },
      "execution_count": 30,
      "outputs": [
        {
          "output_type": "stream",
          "name": "stdout",
          "text": [
            "0 a\n",
            "1 b\n",
            "2 c\n"
          ]
        }
      ]
    },
    {
      "cell_type": "code",
      "source": [
        "#zip(): Combines two or more iterables element-wise.\n",
        "names = [\"Alice\", \"Bob\", \"Charlie\"]\n",
        "ages = [25, 30, 22]\n",
        "zipped_data = zip(names, ages)"
      ],
      "metadata": {
        "id": "NN6RntR8Y9v0"
      },
      "execution_count": 2,
      "outputs": []
    },
    {
      "cell_type": "code",
      "source": [
        "zipped_data"
      ],
      "metadata": {
        "colab": {
          "base_uri": "https://localhost:8080/"
        },
        "id": "W8tXjlxRLss8",
        "outputId": "6a2f7eae-24ac-4f51-d834-0bade96abec3"
      },
      "execution_count": 3,
      "outputs": [
        {
          "output_type": "execute_result",
          "data": {
            "text/plain": [
              "<zip at 0x7ebd785b8540>"
            ]
          },
          "metadata": {},
          "execution_count": 3
        }
      ]
    },
    {
      "cell_type": "code",
      "source": [
        "type(zipped_data)"
      ],
      "metadata": {
        "colab": {
          "base_uri": "https://localhost:8080/"
        },
        "id": "ik7_3lNXMdBt",
        "outputId": "f268603c-7182-44ce-d008-093db4948b6d"
      },
      "execution_count": 4,
      "outputs": [
        {
          "output_type": "execute_result",
          "data": {
            "text/plain": [
              "zip"
            ]
          },
          "metadata": {},
          "execution_count": 4
        }
      ]
    },
    {
      "cell_type": "code",
      "source": [
        "#reversed(): Returns a reverse iterator of a sequence.\n",
        "my_list = [1, 2, 3]\n",
        "reversed_list = list(reversed(my_list))\n",
        "reversed_list"
      ],
      "metadata": {
        "colab": {
          "base_uri": "https://localhost:8080/"
        },
        "id": "iIy4RJK5Mllg",
        "outputId": "5bb48c8c-e191-44cd-fa71-227332d25787"
      },
      "execution_count": 5,
      "outputs": [
        {
          "output_type": "execute_result",
          "data": {
            "text/plain": [
              "[3, 2, 1]"
            ]
          },
          "metadata": {},
          "execution_count": 5
        }
      ]
    },
    {
      "cell_type": "code",
      "source": [
        "#sum() (with start argument): Returns the sum of an iterable with an optional starting value.\n",
        "numbers = [1, 2, 3]\n",
        "total = sum(numbers, 100)"
      ],
      "metadata": {
        "id": "Ha9ogaYHNQtd"
      },
      "execution_count": 6,
      "outputs": []
    },
    {
      "cell_type": "code",
      "source": [
        "total"
      ],
      "metadata": {
        "colab": {
          "base_uri": "https://localhost:8080/"
        },
        "id": "YGzUPtzaNsM2",
        "outputId": "e96c1131-0058-4e6f-95a2-24b268ae381b"
      },
      "execution_count": 7,
      "outputs": [
        {
          "output_type": "execute_result",
          "data": {
            "text/plain": [
              "106"
            ]
          },
          "metadata": {},
          "execution_count": 7
        }
      ]
    },
    {
      "cell_type": "code",
      "source": [
        "23. #abs() (for complex numbers): Returns the magnitude of a complex number.\n",
        "complex_num = 3 + 4j\n",
        "magnitude = abs(complex_num)"
      ],
      "metadata": {
        "id": "8EF0OhwxNusW"
      },
      "execution_count": 8,
      "outputs": []
    },
    {
      "cell_type": "code",
      "source": [
        "magnitude"
      ],
      "metadata": {
        "colab": {
          "base_uri": "https://localhost:8080/"
        },
        "id": "xkOFkLsTN9i9",
        "outputId": "1cbfdc9e-1de6-4d3c-a322-3cf26cf5188a"
      },
      "execution_count": 9,
      "outputs": [
        {
          "output_type": "execute_result",
          "data": {
            "text/plain": [
              "5.0"
            ]
          },
          "metadata": {},
          "execution_count": 9
        }
      ]
    },
    {
      "cell_type": "code",
      "source": [
        "#slice(): Creates a slice object that can be used to slice sequences like lists and strings.\n",
        "my_list = [1, 2, 3, 4, 5]\n",
        "my_slice = slice(1, 4)\n",
        "sliced_list = my_list[my_slice]\n",
        "sliced_list"
      ],
      "metadata": {
        "colab": {
          "base_uri": "https://localhost:8080/"
        },
        "id": "04QYA4eWUo2c",
        "outputId": "35801c88-ff19-4f91-b397-b73998a852d7"
      },
      "execution_count": 10,
      "outputs": [
        {
          "output_type": "execute_result",
          "data": {
            "text/plain": [
              "[2, 3, 4]"
            ]
          },
          "metadata": {},
          "execution_count": 10
        }
      ]
    },
    {
      "cell_type": "code",
      "source": [
        "#chr(), ord() (extended usage): Handling Unicode characters and code points.\n",
        "euro_symbol = chr(8364)  # returns '€'\n",
        "code_point = ord('€')  # returns 8364\n"
      ],
      "metadata": {
        "id": "ccWeG7hvU4Bd"
      },
      "execution_count": 11,
      "outputs": []
    },
    {
      "cell_type": "code",
      "source": [
        "euro_symbol"
      ],
      "metadata": {
        "colab": {
          "base_uri": "https://localhost:8080/",
          "height": 35
        },
        "id": "YME9sdKRV67e",
        "outputId": "a3ee32d1-7e1e-4eff-ac61-d28156c79ff5"
      },
      "execution_count": 12,
      "outputs": [
        {
          "output_type": "execute_result",
          "data": {
            "text/plain": [
              "'€'"
            ],
            "application/vnd.google.colaboratory.intrinsic+json": {
              "type": "string"
            }
          },
          "metadata": {},
          "execution_count": 12
        }
      ]
    },
    {
      "cell_type": "code",
      "source": [
        "code_point"
      ],
      "metadata": {
        "colab": {
          "base_uri": "https://localhost:8080/"
        },
        "id": "iGyWpIAdV9j9",
        "outputId": "84a79906-228a-4c5f-fe2e-79de7b25bdc5"
      },
      "execution_count": 13,
      "outputs": [
        {
          "output_type": "execute_result",
          "data": {
            "text/plain": [
              "8364"
            ]
          },
          "metadata": {},
          "execution_count": 13
        }
      ]
    },
    {
      "cell_type": "code",
      "source": [
        "char = chr(65)\n",
        "print(char)"
      ],
      "metadata": {
        "colab": {
          "base_uri": "https://localhost:8080/"
        },
        "id": "23GWVf-BWLSt",
        "outputId": "dad27091-4182-4dc0-b674-be97d73f0fdf"
      },
      "execution_count": 14,
      "outputs": [
        {
          "output_type": "stream",
          "name": "stdout",
          "text": [
            "A\n"
          ]
        }
      ]
    },
    {
      "cell_type": "code",
      "source": [
        "code_point = ord('A')\n",
        "print(code_point)  # Output: 65"
      ],
      "metadata": {
        "colab": {
          "base_uri": "https://localhost:8080/"
        },
        "id": "lj7-nZixWY5t",
        "outputId": "d69687b0-e3f5-4c7e-9815-248558cd5c70"
      },
      "execution_count": 15,
      "outputs": [
        {
          "output_type": "stream",
          "name": "stdout",
          "text": [
            "65\n"
          ]
        }
      ]
    },
    {
      "cell_type": "code",
      "source": [],
      "metadata": {
        "id": "raCNoyyOWd2N"
      },
      "execution_count": null,
      "outputs": []
    }
  ]
}