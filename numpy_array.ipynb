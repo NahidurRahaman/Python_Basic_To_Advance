{
  "nbformat": 4,
  "nbformat_minor": 0,
  "metadata": {
    "colab": {
      "provenance": [],
      "authorship_tag": "ABX9TyNgHP3jtfmpSTn0ORAtkfoo",
      "include_colab_link": true
    },
    "kernelspec": {
      "name": "python3",
      "display_name": "Python 3"
    },
    "language_info": {
      "name": "python"
    }
  },
  "cells": [
    {
      "cell_type": "markdown",
      "metadata": {
        "id": "view-in-github",
        "colab_type": "text"
      },
      "source": [
        "<a href=\"https://colab.research.google.com/github/NahidurRahaman/Python_Basic_To_Advance/blob/main/numpy_array.ipynb\" target=\"_parent\"><img src=\"https://colab.research.google.com/assets/colab-badge.svg\" alt=\"Open In Colab\"/></a>"
      ]
    },
    {
      "cell_type": "code",
      "execution_count": 2,
      "metadata": {
        "id": "MO2akL_FfRhc"
      },
      "outputs": [],
      "source": [
        "import numpy as np"
      ]
    },
    {
      "cell_type": "code",
      "source": [
        "from time import process_time\n"
      ],
      "metadata": {
        "id": "m7RApU7YpWPg"
      },
      "execution_count": 3,
      "outputs": []
    },
    {
      "cell_type": "code",
      "source": [
        "python_list = [i for i in range(1000)]\n",
        "start_time = process_time()\n",
        "python_list = [i+5 for i in python_list]\n",
        "end_time = process_time()\n",
        "print(end_time - start_time)"
      ],
      "metadata": {
        "colab": {
          "base_uri": "https://localhost:8080/"
        },
        "id": "dzycrWSapaqJ",
        "outputId": "97538c49-bab4-48d5-fb88-2d32756f9550"
      },
      "execution_count": 4,
      "outputs": [
        {
          "output_type": "stream",
          "name": "stdout",
          "text": [
            "0.0002778039999999926\n"
          ]
        }
      ]
    },
    {
      "cell_type": "code",
      "source": [
        "np_array = np.array([i for i in range(1000)])\n",
        "start_time = process_time()\n",
        "np_array += 5\n",
        "end_time = process_time()\n",
        "print(end_time - start_time)\n"
      ],
      "metadata": {
        "colab": {
          "base_uri": "https://localhost:8080/"
        },
        "id": "K09UBcA2pfQY",
        "outputId": "3af0ebec-ba9f-4043-9c78-be5d200f7da0"
      },
      "execution_count": 5,
      "outputs": [
        {
          "output_type": "stream",
          "name": "stdout",
          "text": [
            "0.001421172000000137\n"
          ]
        }
      ]
    },
    {
      "cell_type": "markdown",
      "source": [
        "Numpy Array"
      ],
      "metadata": {
        "id": "cB0qlIMnpnNj"
      }
    },
    {
      "cell_type": "code",
      "source": [
        "# List\n",
        "list1 = [1,2,3,4,5,6]\n",
        "print(list1)\n",
        "type(list1)"
      ],
      "metadata": {
        "colab": {
          "base_uri": "https://localhost:8080/"
        },
        "id": "STdH06GEpjQI",
        "outputId": "da63cfc9-7b89-4f4f-819c-4fd30708493f"
      },
      "execution_count": 6,
      "outputs": [
        {
          "output_type": "stream",
          "name": "stdout",
          "text": [
            "[1, 2, 3, 4, 5, 6]\n"
          ]
        },
        {
          "output_type": "execute_result",
          "data": {
            "text/plain": [
              "list"
            ]
          },
          "metadata": {},
          "execution_count": 6
        }
      ]
    },
    {
      "cell_type": "code",
      "source": [
        "np_array = np.array(list1)\n",
        "print(np_array)\n",
        "type(np_array)"
      ],
      "metadata": {
        "colab": {
          "base_uri": "https://localhost:8080/"
        },
        "id": "muB_a6gYp0gI",
        "outputId": "9256e0ad-1cf1-4e40-abd9-c228b996a489"
      },
      "execution_count": 7,
      "outputs": [
        {
          "output_type": "stream",
          "name": "stdout",
          "text": [
            "[1 2 3 4 5 6]\n"
          ]
        },
        {
          "output_type": "execute_result",
          "data": {
            "text/plain": [
              "numpy.ndarray"
            ]
          },
          "metadata": {},
          "execution_count": 7
        }
      ]
    },
    {
      "cell_type": "code",
      "source": [
        "#creating a 1 dim array\n",
        "a = np.array([1,2,3,4,5,6])\n",
        "print(a)\n"
      ],
      "metadata": {
        "colab": {
          "base_uri": "https://localhost:8080/"
        },
        "id": "CLyzuSdjp9gY",
        "outputId": "124188c3-e95b-4ca9-b0c8-6ce9a5243049"
      },
      "execution_count": 8,
      "outputs": [
        {
          "output_type": "stream",
          "name": "stdout",
          "text": [
            "[1 2 3 4 5 6]\n"
          ]
        }
      ]
    },
    {
      "cell_type": "code",
      "source": [
        "a.shape"
      ],
      "metadata": {
        "colab": {
          "base_uri": "https://localhost:8080/"
        },
        "id": "7shFXuPHuOfb",
        "outputId": "171a0a8f-46fe-41f3-8324-16f992f8434a"
      },
      "execution_count": 9,
      "outputs": [
        {
          "output_type": "execute_result",
          "data": {
            "text/plain": [
              "(6,)"
            ]
          },
          "metadata": {},
          "execution_count": 9
        }
      ]
    },
    {
      "cell_type": "code",
      "source": [
        "b = np.array([(1,2,3),(4,5,6)])\n",
        "print(b)"
      ],
      "metadata": {
        "colab": {
          "base_uri": "https://localhost:8080/"
        },
        "id": "nNmeV0qluQmI",
        "outputId": "a45a220a-71bf-4fa7-e3af-fb366d68fb83"
      },
      "execution_count": 10,
      "outputs": [
        {
          "output_type": "stream",
          "name": "stdout",
          "text": [
            "[[1 2 3]\n",
            " [4 5 6]]\n"
          ]
        }
      ]
    },
    {
      "cell_type": "code",
      "source": [
        "b.shape"
      ],
      "metadata": {
        "colab": {
          "base_uri": "https://localhost:8080/"
        },
        "id": "PmtR3gHluVTo",
        "outputId": "5ca96c81-ad59-462d-f730-f6c0725e61ff"
      },
      "execution_count": 11,
      "outputs": [
        {
          "output_type": "execute_result",
          "data": {
            "text/plain": [
              "(2, 3)"
            ]
          },
          "metadata": {},
          "execution_count": 11
        }
      ]
    },
    {
      "cell_type": "code",
      "source": [
        "c = np.array([(1,2,3),(4,5,6),(7,8,9)],dtype=float)\n",
        "print(c)"
      ],
      "metadata": {
        "id": "or7wjCXZuYAH",
        "colab": {
          "base_uri": "https://localhost:8080/"
        },
        "outputId": "12221390-ef9e-411e-e5ef-3facfbedce5f"
      },
      "execution_count": 12,
      "outputs": [
        {
          "output_type": "stream",
          "name": "stdout",
          "text": [
            "[[1. 2. 3.]\n",
            " [4. 5. 6.]\n",
            " [7. 8. 9.]]\n"
          ]
        }
      ]
    },
    {
      "cell_type": "markdown",
      "source": [
        "Initial Placehoder in numpy arays"
      ],
      "metadata": {
        "id": "WlNpmfEwzqgh"
      }
    },
    {
      "cell_type": "code",
      "source": [
        "#create a numpy array of Zeros\n",
        "x = np.zeros((4,5))\n",
        "print(x)"
      ],
      "metadata": {
        "colab": {
          "base_uri": "https://localhost:8080/"
        },
        "id": "DjXEAXDEzTqY",
        "outputId": "4aa500fd-dbe6-4906-f42f-e76872f956b8"
      },
      "execution_count": 13,
      "outputs": [
        {
          "output_type": "stream",
          "name": "stdout",
          "text": [
            "[[0. 0. 0. 0. 0.]\n",
            " [0. 0. 0. 0. 0.]\n",
            " [0. 0. 0. 0. 0.]\n",
            " [0. 0. 0. 0. 0.]]\n"
          ]
        }
      ]
    },
    {
      "cell_type": "code",
      "source": [
        "#create a numpy array of ones\n",
        "y = np.ones((3,3),dtype=int)\n",
        "print(y)"
      ],
      "metadata": {
        "colab": {
          "base_uri": "https://localhost:8080/"
        },
        "id": "jUSvTsd6z7FA",
        "outputId": "339892e5-ecff-43b9-fffa-a7f40d838b0c"
      },
      "execution_count": 15,
      "outputs": [
        {
          "output_type": "stream",
          "name": "stdout",
          "text": [
            "[[1 1 1]\n",
            " [1 1 1]\n",
            " [1 1 1]]\n"
          ]
        }
      ]
    },
    {
      "cell_type": "code",
      "source": [
        "#array of paticular value\n",
        "z = np.full((5,4),5)\n",
        "print(z)"
      ],
      "metadata": {
        "colab": {
          "base_uri": "https://localhost:8080/"
        },
        "id": "4tsedJTp0FWg",
        "outputId": "27da5597-f90f-4828-f82b-471a5f6beff7"
      },
      "execution_count": 16,
      "outputs": [
        {
          "output_type": "stream",
          "name": "stdout",
          "text": [
            "[[5 5 5 5]\n",
            " [5 5 5 5]\n",
            " [5 5 5 5]\n",
            " [5 5 5 5]\n",
            " [5 5 5 5]]\n"
          ]
        }
      ]
    },
    {
      "cell_type": "code",
      "source": [
        "# create an identity martix\n",
        "a = np.eye(5)\n",
        "print(a)\n"
      ],
      "metadata": {
        "colab": {
          "base_uri": "https://localhost:8080/"
        },
        "id": "t-5ihUf10drS",
        "outputId": "0514cf9f-66bd-4e5b-ffc6-0ae1fbbea91b"
      },
      "execution_count": 17,
      "outputs": [
        {
          "output_type": "stream",
          "name": "stdout",
          "text": [
            "[[1. 0. 0. 0. 0.]\n",
            " [0. 1. 0. 0. 0.]\n",
            " [0. 0. 1. 0. 0.]\n",
            " [0. 0. 0. 1. 0.]\n",
            " [0. 0. 0. 0. 1.]]\n"
          ]
        }
      ]
    },
    {
      "cell_type": "code",
      "source": [
        "# create numpy array with random values\n",
        "c = np.random.random((3,4))\n",
        "\n",
        "print(c)"
      ],
      "metadata": {
        "colab": {
          "base_uri": "https://localhost:8080/"
        },
        "id": "sc1ChYjB0m_Q",
        "outputId": "211d7ba5-707c-4646-a8ac-e8f876446556"
      },
      "execution_count": 18,
      "outputs": [
        {
          "output_type": "stream",
          "name": "stdout",
          "text": [
            "[[0.28416228 0.47402528 0.28419389 0.55102094]\n",
            " [0.29871876 0.08245813 0.53994672 0.37836445]\n",
            " [0.71520877 0.24151649 0.54649763 0.63091984]]\n"
          ]
        }
      ]
    },
    {
      "cell_type": "code",
      "source": [
        "# random integer values array within a specific range\n",
        "c = np.random.randint(10,100,(3,5))\n",
        "print(c)"
      ],
      "metadata": {
        "colab": {
          "base_uri": "https://localhost:8080/"
        },
        "id": "on4I62zjCOeQ",
        "outputId": "3ea6279d-cd7b-4732-d6be-7780bd7bc961"
      },
      "execution_count": 19,
      "outputs": [
        {
          "output_type": "stream",
          "name": "stdout",
          "text": [
            "[[94 76 39 94 25]\n",
            " [93 63 99 40 14]\n",
            " [24 68 70 37 93]]\n"
          ]
        }
      ]
    },
    {
      "cell_type": "code",
      "source": [
        "# array of evenly spaced values --> specifying the number of vlues required\n",
        "d = np.linspace(10,30,5)\n",
        "print(d)"
      ],
      "metadata": {
        "colab": {
          "base_uri": "https://localhost:8080/"
        },
        "id": "rN14YJcOCmC_",
        "outputId": "d5465a29-aca1-4135-fe86-2075e50dbd82"
      },
      "execution_count": 24,
      "outputs": [
        {
          "output_type": "stream",
          "name": "stdout",
          "text": [
            "[10. 15. 20. 25. 30.]\n"
          ]
        }
      ]
    },
    {
      "cell_type": "code",
      "source": [
        "#array of evenly spaced values --> specifying the step\n",
        "e = np.arange(10,30,5)\n",
        "print(e)"
      ],
      "metadata": {
        "colab": {
          "base_uri": "https://localhost:8080/"
        },
        "id": "uPVdGQ7dDI8_",
        "outputId": "d953fe64-d67d-46b4-9f9b-f1d255b9eb6b"
      },
      "execution_count": 25,
      "outputs": [
        {
          "output_type": "stream",
          "name": "stdout",
          "text": [
            "[10 15 20 25]\n"
          ]
        }
      ]
    },
    {
      "cell_type": "code",
      "source": [
        "# convert a list to a numpy array\n",
        "list2 = [10,20,20,20,50]\n",
        "\n",
        "np_array = np.asarray(list2)\n",
        "print(np_array)\n",
        "type(np_array)"
      ],
      "metadata": {
        "colab": {
          "base_uri": "https://localhost:8080/"
        },
        "id": "PlgsGvGwEBR7",
        "outputId": "ded2994c-2da7-4530-f0da-e1413b91a56c"
      },
      "execution_count": 26,
      "outputs": [
        {
          "output_type": "stream",
          "name": "stdout",
          "text": [
            "[10 20 20 20 50]\n"
          ]
        },
        {
          "output_type": "execute_result",
          "data": {
            "text/plain": [
              "numpy.ndarray"
            ]
          },
          "metadata": {},
          "execution_count": 26
        }
      ]
    },
    {
      "cell_type": "markdown",
      "source": [
        "Analysing a numpy array"
      ],
      "metadata": {
        "id": "ZL6ZL9rqEX90"
      }
    },
    {
      "cell_type": "code",
      "source": [
        "c = np.random.randint(10,90,(5,5))\n",
        "print(c)"
      ],
      "metadata": {
        "colab": {
          "base_uri": "https://localhost:8080/"
        },
        "id": "zVYNPs-uEQnw",
        "outputId": "bd4a788b-4c49-468f-9099-b29bd3cfa902"
      },
      "execution_count": 27,
      "outputs": [
        {
          "output_type": "stream",
          "name": "stdout",
          "text": [
            "[[64 23 11 55 10]\n",
            " [49 44 16 44 19]\n",
            " [86 78 88 51 69]\n",
            " [31 62 17 43 15]\n",
            " [35 43 77 58 40]]\n"
          ]
        }
      ]
    },
    {
      "cell_type": "code",
      "source": [
        "#array dimension\n",
        "print(c.shape)"
      ],
      "metadata": {
        "colab": {
          "base_uri": "https://localhost:8080/"
        },
        "id": "EconpPT-EqH6",
        "outputId": "5b0a835b-275d-47b4-d6d4-5b56908bbe2f"
      },
      "execution_count": 28,
      "outputs": [
        {
          "output_type": "stream",
          "name": "stdout",
          "text": [
            "(5, 5)\n"
          ]
        }
      ]
    },
    {
      "cell_type": "code",
      "source": [
        "# number of dimensions\n",
        "print(c.ndim)"
      ],
      "metadata": {
        "colab": {
          "base_uri": "https://localhost:8080/"
        },
        "id": "I8gPYPooEzWv",
        "outputId": "91e5beef-957d-494a-a53a-20bf4b7e98d4"
      },
      "execution_count": 29,
      "outputs": [
        {
          "output_type": "stream",
          "name": "stdout",
          "text": [
            "2\n"
          ]
        }
      ]
    },
    {
      "cell_type": "code",
      "source": [
        "# number of elements in an array\n",
        "print(c.size)"
      ],
      "metadata": {
        "colab": {
          "base_uri": "https://localhost:8080/"
        },
        "id": "aGanRAdEE8R_",
        "outputId": "a4737b52-b864-4e04-8f82-8a03f1dc3a2a"
      },
      "execution_count": 30,
      "outputs": [
        {
          "output_type": "stream",
          "name": "stdout",
          "text": [
            "25\n"
          ]
        }
      ]
    },
    {
      "cell_type": "code",
      "source": [
        "# checking the data type of the values in the array\n",
        "print(c.dtype)\n"
      ],
      "metadata": {
        "colab": {
          "base_uri": "https://localhost:8080/"
        },
        "id": "jV4kDktTFFnN",
        "outputId": "7192440d-66b9-4e92-f34f-7316b66d3ea1"
      },
      "execution_count": 31,
      "outputs": [
        {
          "output_type": "stream",
          "name": "stdout",
          "text": [
            "int64\n"
          ]
        }
      ]
    },
    {
      "cell_type": "markdown",
      "source": [
        "Mathmatical operation on a np array"
      ],
      "metadata": {
        "id": "_HHukTnxFWEl"
      }
    },
    {
      "cell_type": "code",
      "source": [
        "list1 = [1,2,3,4,5]\n",
        "list2 = [6,7,8,9,10]\n",
        "\n",
        "print(list1 + list2)"
      ],
      "metadata": {
        "colab": {
          "base_uri": "https://localhost:8080/"
        },
        "id": "DbF4K-brFRnw",
        "outputId": "3ce9b75c-983b-458a-d3b8-d46f33bb5685"
      },
      "execution_count": 32,
      "outputs": [
        {
          "output_type": "stream",
          "name": "stdout",
          "text": [
            "[1, 2, 3, 4, 5, 6, 7, 8, 9, 10]\n"
          ]
        }
      ]
    },
    {
      "cell_type": "code",
      "source": [
        "a = np.random.randint(0,10,(3,3))\n",
        "b = np.random.randint(10,20,(3,3))"
      ],
      "metadata": {
        "id": "zwnx_mPEFoJf"
      },
      "execution_count": 33,
      "outputs": []
    },
    {
      "cell_type": "code",
      "source": [
        "print(a)\n",
        "print(b)"
      ],
      "metadata": {
        "colab": {
          "base_uri": "https://localhost:8080/"
        },
        "id": "vGW4V8v9FswQ",
        "outputId": "74296cfa-70d7-4908-c85e-7f1cd1105bea"
      },
      "execution_count": 34,
      "outputs": [
        {
          "output_type": "stream",
          "name": "stdout",
          "text": [
            "[[3 6 4]\n",
            " [6 8 7]\n",
            " [6 3 9]]\n",
            "[[17 11 18]\n",
            " [12 13 18]\n",
            " [14 19 18]]\n"
          ]
        }
      ]
    },
    {
      "cell_type": "code",
      "source": [
        "print(a+b)\n",
        "print(a-b)\n",
        "print(a*b)\n",
        "print(a/b)"
      ],
      "metadata": {
        "colab": {
          "base_uri": "https://localhost:8080/"
        },
        "id": "mdx0926bFyMv",
        "outputId": "cb484cbe-0045-467a-cc51-29c6fdf3c1bc"
      },
      "execution_count": 35,
      "outputs": [
        {
          "output_type": "stream",
          "name": "stdout",
          "text": [
            "[[20 17 22]\n",
            " [18 21 25]\n",
            " [20 22 27]]\n",
            "[[-14  -5 -14]\n",
            " [ -6  -5 -11]\n",
            " [ -8 -16  -9]]\n",
            "[[ 51  66  72]\n",
            " [ 72 104 126]\n",
            " [ 84  57 162]]\n",
            "[[0.17647059 0.54545455 0.22222222]\n",
            " [0.5        0.61538462 0.38888889]\n",
            " [0.42857143 0.15789474 0.5       ]]\n"
          ]
        }
      ]
    },
    {
      "cell_type": "code",
      "source": [
        "a = np.random.randint(0,10,(3,3))\n",
        "b = np.random.randint(10,20,(3,3))"
      ],
      "metadata": {
        "id": "yXqcb35TF2PZ"
      },
      "execution_count": 36,
      "outputs": []
    },
    {
      "cell_type": "code",
      "source": [
        "print(a)\n",
        "print(b)"
      ],
      "metadata": {
        "colab": {
          "base_uri": "https://localhost:8080/"
        },
        "id": "sVd62I9mGHP_",
        "outputId": "b2225a88-0d29-487f-e72e-987193ca52a9"
      },
      "execution_count": 37,
      "outputs": [
        {
          "output_type": "stream",
          "name": "stdout",
          "text": [
            "[[7 7 6]\n",
            " [0 5 4]\n",
            " [8 4 2]]\n",
            "[[15 11 19]\n",
            " [15 11 16]\n",
            " [14 19 11]]\n"
          ]
        }
      ]
    },
    {
      "cell_type": "code",
      "source": [
        "print(np.add(a,b))\n",
        "print(np.subtract(a,b))\n",
        "print(np.multiply(a,b))\n",
        "print(np.divide(a,b))"
      ],
      "metadata": {
        "colab": {
          "base_uri": "https://localhost:8080/"
        },
        "id": "b2W07YJtGJqi",
        "outputId": "4e1d486d-7717-409a-a026-e6fa3cfd9b67"
      },
      "execution_count": 38,
      "outputs": [
        {
          "output_type": "stream",
          "name": "stdout",
          "text": [
            "[[22 18 25]\n",
            " [15 16 20]\n",
            " [22 23 13]]\n",
            "[[ -8  -4 -13]\n",
            " [-15  -6 -12]\n",
            " [ -6 -15  -9]]\n",
            "[[105  77 114]\n",
            " [  0  55  64]\n",
            " [112  76  22]]\n",
            "[[0.46666667 0.63636364 0.31578947]\n",
            " [0.         0.45454545 0.25      ]\n",
            " [0.57142857 0.21052632 0.18181818]]\n"
          ]
        }
      ]
    },
    {
      "cell_type": "markdown",
      "source": [
        "Array Mainpulation"
      ],
      "metadata": {
        "id": "66wrFjW3GQdO"
      }
    },
    {
      "cell_type": "code",
      "source": [
        "array = np.random.randint(0,10,(2,3))\n",
        "print(array)\n",
        "print(array.shape)"
      ],
      "metadata": {
        "colab": {
          "base_uri": "https://localhost:8080/"
        },
        "id": "4_7ovwjiGNXv",
        "outputId": "89c40433-e042-4dab-b037-c89dbc599833"
      },
      "execution_count": 39,
      "outputs": [
        {
          "output_type": "stream",
          "name": "stdout",
          "text": [
            "[[3 0 2]\n",
            " [7 4 0]]\n",
            "(2, 3)\n"
          ]
        }
      ]
    },
    {
      "cell_type": "code",
      "source": [
        "# transpos\n",
        "trans = np.transpose(array)\n",
        "print(trans)\n",
        "print(trans.shape)"
      ],
      "metadata": {
        "colab": {
          "base_uri": "https://localhost:8080/"
        },
        "id": "cYN5Bjh9Gb5B",
        "outputId": "aed2495a-9096-4701-e479-56bed616feec"
      },
      "execution_count": 40,
      "outputs": [
        {
          "output_type": "stream",
          "name": "stdout",
          "text": [
            "[[3 7]\n",
            " [0 4]\n",
            " [2 0]]\n",
            "(3, 2)\n"
          ]
        }
      ]
    },
    {
      "cell_type": "code",
      "source": [
        "array = np.random.randint(0,10,(2,3))\n",
        "print(array)\n",
        "print(array.shape)"
      ],
      "metadata": {
        "colab": {
          "base_uri": "https://localhost:8080/"
        },
        "id": "YxbSFb0_GkLC",
        "outputId": "d4ddc1cb-482a-40d2-dcef-b4ffd1ba306e"
      },
      "execution_count": 41,
      "outputs": [
        {
          "output_type": "stream",
          "name": "stdout",
          "text": [
            "[[1 6 7]\n",
            " [1 5 4]]\n",
            "(2, 3)\n"
          ]
        }
      ]
    },
    {
      "cell_type": "code",
      "source": [
        "trans2 = array.T\n",
        "print(trans2)\n",
        "print(trans2.shape)"
      ],
      "metadata": {
        "colab": {
          "base_uri": "https://localhost:8080/"
        },
        "id": "e6gISEczGwwC",
        "outputId": "bd6cb1bf-caaf-455c-e898-8fc580f5f62c"
      },
      "execution_count": 42,
      "outputs": [
        {
          "output_type": "stream",
          "name": "stdout",
          "text": [
            "[[1 1]\n",
            " [6 5]\n",
            " [7 4]]\n",
            "(3, 2)\n"
          ]
        }
      ]
    },
    {
      "cell_type": "code",
      "source": [
        "# reshaping a array\n",
        "a = np.random.randint(0,10,(2,3))\n",
        "print(a)\n",
        "print(a.shape)"
      ],
      "metadata": {
        "colab": {
          "base_uri": "https://localhost:8080/"
        },
        "id": "zOdUMJx8GzyQ",
        "outputId": "be5c2523-daf2-4722-81dd-8aef391f5e20"
      },
      "execution_count": 43,
      "outputs": [
        {
          "output_type": "stream",
          "name": "stdout",
          "text": [
            "[[8 6 8]\n",
            " [7 9 9]]\n",
            "(2, 3)\n"
          ]
        }
      ]
    },
    {
      "cell_type": "code",
      "source": [
        "b = a.reshape(3,2)\n",
        "print(b)\n",
        "print(b.shape)"
      ],
      "metadata": {
        "colab": {
          "base_uri": "https://localhost:8080/"
        },
        "id": "tAabK1EZG9tB",
        "outputId": "cca6271f-d29f-4a9d-9580-28106ff1175b"
      },
      "execution_count": 44,
      "outputs": [
        {
          "output_type": "stream",
          "name": "stdout",
          "text": [
            "[[8 6]\n",
            " [8 7]\n",
            " [9 9]]\n",
            "(3, 2)\n"
          ]
        }
      ]
    },
    {
      "cell_type": "code",
      "source": [],
      "metadata": {
        "id": "pe4qVkSBHBf_"
      },
      "execution_count": null,
      "outputs": []
    }
  ]
}