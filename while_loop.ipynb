{
  "nbformat": 4,
  "nbformat_minor": 0,
  "metadata": {
    "colab": {
      "provenance": [],
      "authorship_tag": "ABX9TyPSmxqTjDTuOl8B/m55pAX/",
      "include_colab_link": true
    },
    "kernelspec": {
      "name": "python3",
      "display_name": "Python 3"
    },
    "language_info": {
      "name": "python"
    }
  },
  "cells": [
    {
      "cell_type": "markdown",
      "metadata": {
        "id": "view-in-github",
        "colab_type": "text"
      },
      "source": [
        "<a href=\"https://colab.research.google.com/github/NahidurRahaman/Python_Basic_To_Advance/blob/main/while_loop.ipynb\" target=\"_parent\"><img src=\"https://colab.research.google.com/assets/colab-badge.svg\" alt=\"Open In Colab\"/></a>"
      ]
    },
    {
      "cell_type": "code",
      "execution_count": 1,
      "metadata": {
        "colab": {
          "base_uri": "https://localhost:8080/"
        },
        "id": "7hKy96gRcWcP",
        "outputId": "c428080a-7dd4-4abd-9926-5a1799f4f2bf"
      },
      "outputs": [
        {
          "output_type": "stream",
          "name": "stdout",
          "text": [
            "0\n",
            "1\n",
            "2\n",
            "3\n",
            "4\n",
            "5\n",
            "6\n",
            "7\n",
            "8\n",
            "9\n",
            "10\n"
          ]
        }
      ],
      "source": [
        "i = 0\n",
        "while (i<=10):\n",
        "    print(i)\n",
        "    i +=1 # i = i+1"
      ]
    },
    {
      "cell_type": "code",
      "source": [
        "i = 0\n",
        "while (i<=10):\n",
        "    print(i,'study mart')\n",
        "    i +=2\n",
        ""
      ],
      "metadata": {
        "colab": {
          "base_uri": "https://localhost:8080/"
        },
        "id": "XWuwFbbGcgoK",
        "outputId": "c83a97db-31cc-44b7-d47b-685092853029"
      },
      "execution_count": 2,
      "outputs": [
        {
          "output_type": "stream",
          "name": "stdout",
          "text": [
            "0 study mart\n",
            "2 study mart\n",
            "4 study mart\n",
            "6 study mart\n",
            "8 study mart\n",
            "10 study mart\n"
          ]
        }
      ]
    },
    {
      "cell_type": "code",
      "source": [
        "data = 'python'\n",
        "index=0\n",
        "while index<len(data):\n",
        "    print(data[index])\n",
        "    index = index+1"
      ],
      "metadata": {
        "colab": {
          "base_uri": "https://localhost:8080/"
        },
        "id": "SLtBjBAhcsmF",
        "outputId": "a12ff7a3-b684-496a-a737-6e6251273db0"
      },
      "execution_count": 4,
      "outputs": [
        {
          "output_type": "stream",
          "name": "stdout",
          "text": [
            "p\n",
            "y\n",
            "t\n",
            "h\n",
            "o\n",
            "n\n"
          ]
        }
      ]
    },
    {
      "cell_type": "code",
      "source": [
        "data = 'i love data science so much'\n",
        "index=0\n",
        "while index<len(data):\n",
        "    print(data[index])\n",
        "    index = index+1\n",
        ""
      ],
      "metadata": {
        "colab": {
          "base_uri": "https://localhost:8080/"
        },
        "id": "xoxfWu3Zc9oE",
        "outputId": "bdd4a28f-4f49-442c-f012-13a98e354069"
      },
      "execution_count": 5,
      "outputs": [
        {
          "output_type": "stream",
          "name": "stdout",
          "text": [
            "i\n",
            " \n",
            "l\n",
            "o\n",
            "v\n",
            "e\n",
            " \n",
            "d\n",
            "a\n",
            "t\n",
            "a\n",
            " \n",
            "s\n",
            "c\n",
            "i\n",
            "e\n",
            "n\n",
            "c\n",
            "e\n",
            " \n",
            "s\n",
            "o\n",
            " \n",
            "m\n",
            "u\n",
            "c\n",
            "h\n"
          ]
        }
      ]
    },
    {
      "cell_type": "code",
      "source": [
        "data = 'i love data science so much'\n",
        "data = data.split()\n",
        "index=0\n",
        "while index<len(data):\n",
        "    print(data[index])\n",
        "    index += 1"
      ],
      "metadata": {
        "colab": {
          "base_uri": "https://localhost:8080/"
        },
        "id": "lKQst6budIiT",
        "outputId": "ee98a108-7f7a-43c4-e306-4686b290b4bb"
      },
      "execution_count": 6,
      "outputs": [
        {
          "output_type": "stream",
          "name": "stdout",
          "text": [
            "i\n",
            "love\n",
            "data\n",
            "science\n",
            "so\n",
            "much\n"
          ]
        }
      ]
    },
    {
      "cell_type": "code",
      "source": [
        "n = [2,3,4,55,60,77,100]\n",
        "total = 0\n",
        "index = 0\n",
        "while(index<len(n)):\n",
        "    total = total + n[index]\n",
        "    print(index,total)\n",
        "    index +=1"
      ],
      "metadata": {
        "colab": {
          "base_uri": "https://localhost:8080/"
        },
        "id": "6lFRSVVvdMuT",
        "outputId": "188bb38a-33bc-4fda-c92f-72986fa59873"
      },
      "execution_count": 7,
      "outputs": [
        {
          "output_type": "stream",
          "name": "stdout",
          "text": [
            "0 2\n",
            "1 5\n",
            "2 9\n",
            "3 64\n",
            "4 124\n",
            "5 201\n",
            "6 301\n"
          ]
        }
      ]
    },
    {
      "cell_type": "code",
      "source": [
        "n = [2,3,4,55,60,77,100]\n",
        "total = 0\n",
        "index = 0\n",
        "while(index<len(n)):\n",
        "    total = total + n[index]\n",
        "    #print(index,total)\n",
        "    index +=1\n",
        "print(total)"
      ],
      "metadata": {
        "colab": {
          "base_uri": "https://localhost:8080/"
        },
        "id": "pAI39nbgdQ8D",
        "outputId": "e55a195a-1742-486c-fb9d-ac2bb423532e"
      },
      "execution_count": 8,
      "outputs": [
        {
          "output_type": "stream",
          "name": "stdout",
          "text": [
            "301\n"
          ]
        }
      ]
    },
    {
      "cell_type": "code",
      "source": [],
      "metadata": {
        "id": "9SnzSBjVdUnj"
      },
      "execution_count": null,
      "outputs": []
    }
  ]
}