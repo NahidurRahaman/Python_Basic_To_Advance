{
 "cells": [
  {
   "cell_type": "code",
   "execution_count": 1,
   "id": "a90e5f4d-97ec-4cd1-8587-67547a342b9f",
   "metadata": {},
   "outputs": [
    {
     "name": "stdout",
     "output_type": "stream",
     "text": [
      "Before reading from a file, you need to make sure the file exists. This example will show you how to open a text file and read its contents line by line, which is useful for processing files that are too large to fit into memory all at once.\n"
     ]
    }
   ],
   "source": [
    "with open('py1.txt', 'r') as file:\n",
    "    # Read each line in the file one at a time\n",
    "    for line in file:\n",
    "        # Process each line\n",
    "        print(line.strip())"
   ]
  },
  {
   "cell_type": "code",
   "execution_count": 2,
   "id": "a03e7f54-a416-473d-bad5-de40339af72b",
   "metadata": {},
   "outputs": [],
   "source": [
    "lines_to_write = ['We are allowing you to learn Python, Django, Machine Learning & AI', 'Python makes file handling easy.','Visit: www.aiquest.org']"
   ]
  },
  {
   "cell_type": "code",
   "execution_count": 4,
   "id": "7bf6a5d9-57b7-4646-901c-32e306818b8d",
   "metadata": {},
   "outputs": [],
   "source": [
    "with open('py1.txt', 'w') as file:\n",
    "    for line in lines_to_write:\n",
    "        # Write each line to the file with a newline character at the end\n",
    "        file.write(line + '\\n')"
   ]
  },
  {
   "cell_type": "code",
   "execution_count": 5,
   "id": "0a1a21c3-83c6-44af-899e-9e6029a34878",
   "metadata": {},
   "outputs": [],
   "source": [
    "with open('py22.txt', 'w') as file:\n",
    "    for line in lines_to_write:\n",
    "        # Write each line to the file with a newline character at the end\n",
    "        file.writelines(line + '\\n')"
   ]
  },
  {
   "cell_type": "code",
   "execution_count": 6,
   "id": "04a54010-01db-4a42-955c-e67966fc810d",
   "metadata": {},
   "outputs": [],
   "source": [
    "new_text1 = ['Learn data science smartly', 'AI is Future']\n",
    "\n",
    "# Open the file in append mode ('a')\n",
    "with open('py22.txt', 'a') as file:\n",
    "    for line in new_text1:\n",
    "        # Append each line to the file\n",
    "        file.write(line + '\\n')"
   ]
  },
  {
   "cell_type": "code",
   "execution_count": null,
   "id": "1aae2e97-96be-448f-a3f2-7603098aac78",
   "metadata": {},
   "outputs": [],
   "source": []
  }
 ],
 "metadata": {
  "kernelspec": {
   "display_name": "Python 3 (ipykernel)",
   "language": "python",
   "name": "python3"
  },
  "language_info": {
   "codemirror_mode": {
    "name": "ipython",
    "version": 3
   },
   "file_extension": ".py",
   "mimetype": "text/x-python",
   "name": "python",
   "nbconvert_exporter": "python",
   "pygments_lexer": "ipython3",
   "version": "3.12.7"
  }
 },
 "nbformat": 4,
 "nbformat_minor": 5
}
