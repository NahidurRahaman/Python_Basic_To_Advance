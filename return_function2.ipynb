{
  "nbformat": 4,
  "nbformat_minor": 0,
  "metadata": {
    "colab": {
      "provenance": [],
      "authorship_tag": "ABX9TyOK9wZqOQXYGMyNlj7IIeqI",
      "include_colab_link": true
    },
    "kernelspec": {
      "name": "python3",
      "display_name": "Python 3"
    },
    "language_info": {
      "name": "python"
    }
  },
  "cells": [
    {
      "cell_type": "markdown",
      "metadata": {
        "id": "view-in-github",
        "colab_type": "text"
      },
      "source": [
        "<a href=\"https://colab.research.google.com/github/NahidurRahaman/Python_Basic_To_Advance/blob/main/return_function2.ipynb\" target=\"_parent\"><img src=\"https://colab.research.google.com/assets/colab-badge.svg\" alt=\"Open In Colab\"/></a>"
      ]
    },
    {
      "cell_type": "code",
      "execution_count": 1,
      "metadata": {
        "id": "9SYXfvc7lth1"
      },
      "outputs": [],
      "source": [
        "def mulp():\n",
        "    x = int(input('x = '))\n",
        "    y = int(input('y = '))\n",
        "    result = x*y\n",
        "    print(result)"
      ]
    },
    {
      "cell_type": "code",
      "source": [
        "mulp()"
      ],
      "metadata": {
        "colab": {
          "base_uri": "https://localhost:8080/"
        },
        "id": "AWgxucuEmg6j",
        "outputId": "4345a051-7bc8-41e9-8a05-fb46e47cebbc"
      },
      "execution_count": 2,
      "outputs": [
        {
          "output_type": "stream",
          "name": "stdout",
          "text": [
            "x = 5\n",
            "y = 4\n",
            "20\n"
          ]
        }
      ]
    },
    {
      "cell_type": "code",
      "source": [
        "def mulp1():\n",
        "    x = int(input('x = '))\n",
        "    y = int(input('y = '))\n",
        "    result = x*y\n",
        "    print('result ', result)\n",
        "    return result\n",
        "\n",
        "def mulp2():\n",
        "    total1 = mulp1()\n",
        "    z = int(input('z = '))\n",
        "    total2 = total1 * z\n",
        "    print('final result = ', total2)"
      ],
      "metadata": {
        "id": "rwvOPsjjmkFc"
      },
      "execution_count": 3,
      "outputs": []
    },
    {
      "cell_type": "code",
      "source": [
        "mulp2()"
      ],
      "metadata": {
        "colab": {
          "base_uri": "https://localhost:8080/"
        },
        "id": "tsj1Ie1hmrJP",
        "outputId": "474e5451-ff45-4782-f6fd-64eceeeb8e19"
      },
      "execution_count": 4,
      "outputs": [
        {
          "output_type": "stream",
          "name": "stdout",
          "text": [
            "x = 4\n",
            "y = 5\n",
            "result  20\n",
            "z = 5\n",
            "final result =  100\n"
          ]
        }
      ]
    },
    {
      "cell_type": "code",
      "source": [],
      "metadata": {
        "id": "C-PYz3GcmwPy"
      },
      "execution_count": null,
      "outputs": []
    }
  ]
}