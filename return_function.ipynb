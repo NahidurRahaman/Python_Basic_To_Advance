{
  "nbformat": 4,
  "nbformat_minor": 0,
  "metadata": {
    "colab": {
      "provenance": [],
      "authorship_tag": "ABX9TyOlvP5llMCNf154oWi9lsYd",
      "include_colab_link": true
    },
    "kernelspec": {
      "name": "python3",
      "display_name": "Python 3"
    },
    "language_info": {
      "name": "python"
    }
  },
  "cells": [
    {
      "cell_type": "markdown",
      "metadata": {
        "id": "view-in-github",
        "colab_type": "text"
      },
      "source": [
        "<a href=\"https://colab.research.google.com/github/NahidurRahaman/Python_Basic_To_Advance/blob/main/return_function.ipynb\" target=\"_parent\"><img src=\"https://colab.research.google.com/assets/colab-badge.svg\" alt=\"Open In Colab\"/></a>"
      ]
    },
    {
      "cell_type": "code",
      "execution_count": null,
      "metadata": {
        "id": "sW7nyh5xdC64"
      },
      "outputs": [],
      "source": [
        "def user_input():\n",
        "    x1 = int(input())\n",
        "    x2 = int(input())\n",
        "    y1 = int(input())\n",
        "    y2 = int(input())\n",
        "\n",
        "    return x1, x2"
      ]
    },
    {
      "cell_type": "code",
      "source": [
        "user_input()\n"
      ],
      "metadata": {
        "id": "R3mreUc-fQfU",
        "colab": {
          "base_uri": "https://localhost:8080/"
        },
        "outputId": "33af8649-3e99-46b0-83d7-064c6905094b"
      },
      "execution_count": null,
      "outputs": [
        {
          "name": "stdout",
          "output_type": "stream",
          "text": [
            "5\n"
          ]
        }
      ]
    },
    {
      "cell_type": "code",
      "source": [
        "def user_input():\n",
        "    x1 = int(input())\n",
        "    x2 = int(input())\n",
        "    y1 = int(input())\n",
        "    y2 = int(input())\n",
        "\n",
        "    return x1, y1, x2, y2"
      ],
      "metadata": {
        "id": "vGWfZcdEfU9N"
      },
      "execution_count": null,
      "outputs": []
    },
    {
      "cell_type": "code",
      "source": [
        "def user_input():\n",
        "    x1 = int(input())\n",
        "    x2 = int(input())\n",
        "    y1 = int(input())\n",
        "    y2 = int(input())\n",
        "\n",
        "    return (x1, y1), (x2, y2)"
      ],
      "metadata": {
        "id": "HZIWHftBix-U"
      },
      "execution_count": null,
      "outputs": []
    },
    {
      "cell_type": "code",
      "source": [
        "def user_input():\n",
        "    x1 = int(input())\n",
        "    x2 = int(input())\n",
        "    y1 = int(input())\n",
        "    y2 = int(input())\n",
        "\n",
        "    return (x1, y1), (x2, y2)"
      ],
      "metadata": {
        "id": "tkkOGT_Ti4r9"
      },
      "execution_count": null,
      "outputs": []
    },
    {
      "cell_type": "code",
      "source": [
        "r1"
      ],
      "metadata": {
        "id": "WYBjctr0jH9f"
      },
      "execution_count": null,
      "outputs": []
    },
    {
      "cell_type": "code",
      "source": [
        "r1 = user_input()"
      ],
      "metadata": {
        "id": "goy8UI_CjRfo"
      },
      "execution_count": null,
      "outputs": []
    },
    {
      "cell_type": "code",
      "source": [
        "def sq_and_cube(x):\n",
        "    sq = x**2\n",
        "    cube = x**3\n",
        "    return sq, cube\n",
        "\n",
        "sq_and_cube(3)"
      ],
      "metadata": {
        "id": "zNFSPen0jqwS"
      },
      "execution_count": null,
      "outputs": []
    },
    {
      "cell_type": "code",
      "source": [],
      "metadata": {
        "id": "07o7ggP-j12T"
      },
      "execution_count": null,
      "outputs": []
    }
  ]
}