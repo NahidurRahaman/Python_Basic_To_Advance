{
  "nbformat": 4,
  "nbformat_minor": 0,
  "metadata": {
    "colab": {
      "provenance": [],
      "authorship_tag": "ABX9TyNXzBROziUTj28g4J5s2CRQ",
      "include_colab_link": true
    },
    "kernelspec": {
      "name": "python3",
      "display_name": "Python 3"
    },
    "language_info": {
      "name": "python"
    }
  },
  "cells": [
    {
      "cell_type": "markdown",
      "metadata": {
        "id": "view-in-github",
        "colab_type": "text"
      },
      "source": [
        "<a href=\"https://colab.research.google.com/github/NahidurRahaman/Python_Basic_To_Advance/blob/main/nested_loop.ipynb\" target=\"_parent\"><img src=\"https://colab.research.google.com/assets/colab-badge.svg\" alt=\"Open In Colab\"/></a>"
      ]
    },
    {
      "cell_type": "code",
      "execution_count": 1,
      "metadata": {
        "colab": {
          "base_uri": "https://localhost:8080/"
        },
        "id": "5vwx0xWPlPrx",
        "outputId": "f4c066f9-4c0c-4611-c561-6a4abdfd8b09"
      },
      "outputs": [
        {
          "output_type": "stream",
          "name": "stdout",
          "text": [
            "# \n",
            "# # \n",
            "# # # \n",
            "# # # # \n"
          ]
        }
      ],
      "source": [
        "rows = 4\n",
        "#outer loop\n",
        "for x in range(1,rows+1):\n",
        "    #inner loop\n",
        "    for y in range(1,x+1):\n",
        "        print('#', end=' ')\n",
        "    print('')"
      ]
    },
    {
      "cell_type": "code",
      "source": [
        "num = [1,2,3,4]\n",
        "\n",
        "#outer\n",
        "for ele in num:\n",
        "    #inner\n",
        "    index=0\n",
        "    while index<len(num):\n",
        "        print(num[index], end=' ')\n",
        "        index= index+1\n",
        "    print('\\n')"
      ],
      "metadata": {
        "colab": {
          "base_uri": "https://localhost:8080/"
        },
        "id": "YB3yux5tlu_6",
        "outputId": "a2a8c78d-c0d8-4830-cc11-a1fb31158d7d"
      },
      "execution_count": 2,
      "outputs": [
        {
          "output_type": "stream",
          "name": "stdout",
          "text": [
            "1 2 3 4 \n",
            "\n",
            "1 2 3 4 \n",
            "\n",
            "1 2 3 4 \n",
            "\n",
            "1 2 3 4 \n",
            "\n"
          ]
        }
      ]
    },
    {
      "cell_type": "code",
      "source": [],
      "metadata": {
        "id": "o5GMLoOdmFDT"
      },
      "execution_count": null,
      "outputs": []
    }
  ]
}