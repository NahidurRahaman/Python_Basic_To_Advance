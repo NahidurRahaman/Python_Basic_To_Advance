{
  "nbformat": 4,
  "nbformat_minor": 0,
  "metadata": {
    "colab": {
      "provenance": [],
      "authorship_tag": "ABX9TyNb6cd5BTdC5KfcjAHBm8iu",
      "include_colab_link": true
    },
    "kernelspec": {
      "name": "python3",
      "display_name": "Python 3"
    },
    "language_info": {
      "name": "python"
    }
  },
  "cells": [
    {
      "cell_type": "markdown",
      "metadata": {
        "id": "view-in-github",
        "colab_type": "text"
      },
      "source": [
        "<a href=\"https://colab.research.google.com/github/NahidurRahaman/Python_Basic_To_Advance/blob/main/break_statement.ipynb\" target=\"_parent\"><img src=\"https://colab.research.google.com/assets/colab-badge.svg\" alt=\"Open In Colab\"/></a>"
      ]
    },
    {
      "cell_type": "code",
      "execution_count": 1,
      "metadata": {
        "colab": {
          "base_uri": "https://localhost:8080/"
        },
        "id": "QuDfCAJyNNDm",
        "outputId": "d62c6ccf-432e-4c00-ae69-6fce8a58800d"
      },
      "outputs": [
        {
          "output_type": "stream",
          "name": "stdout",
          "text": [
            "1\n",
            "2\n",
            "3\n",
            "4\n",
            "5\n",
            "6\n",
            "7\n",
            "8\n",
            "9\n",
            "10\n"
          ]
        }
      ],
      "source": [
        "for i in range(1,100):\n",
        "    if i == 11:\n",
        "        break\n",
        "    print(i)"
      ]
    },
    {
      "cell_type": "code",
      "source": [
        "for i in range(1,100):\n",
        "    if i == 11:\n",
        "        break\n",
        "    print('3 *',i,'= ',i*3)"
      ],
      "metadata": {
        "colab": {
          "base_uri": "https://localhost:8080/"
        },
        "id": "xtQ3Etj0N7yr",
        "outputId": "70e11808-95ea-47f4-a22b-3200a46faf08"
      },
      "execution_count": 2,
      "outputs": [
        {
          "output_type": "stream",
          "name": "stdout",
          "text": [
            "3 * 1 =  3\n",
            "3 * 2 =  6\n",
            "3 * 3 =  9\n",
            "3 * 4 =  12\n",
            "3 * 5 =  15\n",
            "3 * 6 =  18\n",
            "3 * 7 =  21\n",
            "3 * 8 =  24\n",
            "3 * 9 =  27\n",
            "3 * 10 =  30\n"
          ]
        }
      ]
    },
    {
      "cell_type": "code",
      "source": [
        "sen = 'I love Bangladesh and Germany'"
      ],
      "metadata": {
        "id": "xgXgP9C5OLjX"
      },
      "execution_count": 3,
      "outputs": []
    },
    {
      "cell_type": "code",
      "source": [
        "for i in sen.split():\n",
        "    if i=='and':\n",
        "        break\n",
        "    print(i)\n",
        ""
      ],
      "metadata": {
        "colab": {
          "base_uri": "https://localhost:8080/"
        },
        "id": "ozM0NT2QOPGl",
        "outputId": "e24cf39b-e6b1-4d12-8a2f-7a047533472c"
      },
      "execution_count": 4,
      "outputs": [
        {
          "output_type": "stream",
          "name": "stdout",
          "text": [
            "I\n",
            "love\n",
            "Bangladesh\n"
          ]
        }
      ]
    },
    {
      "cell_type": "code",
      "source": [
        "i = 1\n",
        "while i<=100:\n",
        "    if i==11:\n",
        "        break\n",
        "    print('5 *',i,'=',3*i)\n",
        "    i = i+1"
      ],
      "metadata": {
        "colab": {
          "base_uri": "https://localhost:8080/"
        },
        "id": "LTnLSGjFOUkk",
        "outputId": "29362c54-6036-483a-9d9a-aef40cc5922c"
      },
      "execution_count": 5,
      "outputs": [
        {
          "output_type": "stream",
          "name": "stdout",
          "text": [
            "5 * 1 = 3\n",
            "5 * 2 = 6\n",
            "5 * 3 = 9\n",
            "5 * 4 = 12\n",
            "5 * 5 = 15\n",
            "5 * 6 = 18\n",
            "5 * 7 = 21\n",
            "5 * 8 = 24\n",
            "5 * 9 = 27\n",
            "5 * 10 = 30\n"
          ]
        }
      ]
    },
    {
      "cell_type": "code",
      "source": [],
      "metadata": {
        "id": "2B7zX3s9Qj7U"
      },
      "execution_count": null,
      "outputs": []
    }
  ]
}