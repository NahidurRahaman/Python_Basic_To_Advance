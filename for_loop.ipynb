{
  "nbformat": 4,
  "nbformat_minor": 0,
  "metadata": {
    "colab": {
      "provenance": [],
      "authorship_tag": "ABX9TyPMGnHn96jawIL/j/L1KoNF",
      "include_colab_link": true
    },
    "kernelspec": {
      "name": "python3",
      "display_name": "Python 3"
    },
    "language_info": {
      "name": "python"
    }
  },
  "cells": [
    {
      "cell_type": "markdown",
      "metadata": {
        "id": "view-in-github",
        "colab_type": "text"
      },
      "source": [
        "<a href=\"https://colab.research.google.com/github/NahidurRahaman/Python_Basic_To_Advance/blob/main/for_loop.ipynb\" target=\"_parent\"><img src=\"https://colab.research.google.com/assets/colab-badge.svg\" alt=\"Open In Colab\"/></a>"
      ]
    },
    {
      "cell_type": "code",
      "execution_count": 2,
      "metadata": {
        "colab": {
          "base_uri": "https://localhost:8080/"
        },
        "id": "nNIAkW0YTiMk",
        "outputId": "b08f9ab2-db95-42b7-da35-608bc6dfd09c"
      },
      "outputs": [
        {
          "output_type": "stream",
          "name": "stdout",
          "text": [
            "p x\n",
            "y x\n",
            "t x\n",
            "h x\n",
            "o x\n",
            "n x\n"
          ]
        }
      ],
      "source": [
        "data = 'python'\n",
        "for x in data:\n",
        "    print(x,'x')"
      ]
    },
    {
      "cell_type": "code",
      "source": [
        "for x in range(len(data)):\n",
        "    print(data[x])\n",
        ""
      ],
      "metadata": {
        "colab": {
          "base_uri": "https://localhost:8080/"
        },
        "id": "u3UsDwIJUB6r",
        "outputId": "f912df6e-1a56-4e2c-ac13-efedd1cd9798"
      },
      "execution_count": 3,
      "outputs": [
        {
          "output_type": "stream",
          "name": "stdout",
          "text": [
            "p\n",
            "y\n",
            "t\n",
            "h\n",
            "o\n",
            "n\n"
          ]
        }
      ]
    },
    {
      "cell_type": "code",
      "source": [
        "data = 'i love data science so much'\n",
        "for i in range(len(data)):\n",
        "    print(data[i])"
      ],
      "metadata": {
        "colab": {
          "base_uri": "https://localhost:8080/"
        },
        "id": "UocpEc6uamqM",
        "outputId": "7a51706b-9083-4102-854a-f0f388de7289"
      },
      "execution_count": 4,
      "outputs": [
        {
          "output_type": "stream",
          "name": "stdout",
          "text": [
            "i\n",
            " \n",
            "l\n",
            "o\n",
            "v\n",
            "e\n",
            " \n",
            "d\n",
            "a\n",
            "t\n",
            "a\n",
            " \n",
            "s\n",
            "c\n",
            "i\n",
            "e\n",
            "n\n",
            "c\n",
            "e\n",
            " \n",
            "s\n",
            "o\n",
            " \n",
            "m\n",
            "u\n",
            "c\n",
            "h\n"
          ]
        }
      ]
    },
    {
      "cell_type": "code",
      "source": [
        "\n",
        "data = 'i love data science so much'\n",
        "data = data.split()\n",
        "for i in range(len(data)):\n",
        "    print(data[i],i)"
      ],
      "metadata": {
        "colab": {
          "base_uri": "https://localhost:8080/"
        },
        "id": "PC6P3JNhasWn",
        "outputId": "f79753b0-7ce6-4443-f7c8-cc9895d5074e"
      },
      "execution_count": 5,
      "outputs": [
        {
          "output_type": "stream",
          "name": "stdout",
          "text": [
            "i 0\n",
            "love 1\n",
            "data 2\n",
            "science 3\n",
            "so 4\n",
            "much 5\n"
          ]
        }
      ]
    },
    {
      "cell_type": "code",
      "source": [
        "\n",
        "n = [2,3,4,55,60,77,100]\n",
        "total = 0\n",
        "for x in n:\n",
        "    total = total+x\n",
        "    #print(total,x)\n",
        "print(total)"
      ],
      "metadata": {
        "colab": {
          "base_uri": "https://localhost:8080/"
        },
        "id": "5mZoMBo7bFBk",
        "outputId": "e3f0ef7d-5579-402f-8c01-13c028fcc757"
      },
      "execution_count": 6,
      "outputs": [
        {
          "output_type": "stream",
          "name": "stdout",
          "text": [
            "301\n"
          ]
        }
      ]
    },
    {
      "cell_type": "code",
      "source": [
        "n = [2,3,4,55,60,77,100]\n",
        "total = 0\n",
        "for x in n:\n",
        "    total = total+x\n",
        "    print(total,x)\n",
        "print('Total',total)"
      ],
      "metadata": {
        "colab": {
          "base_uri": "https://localhost:8080/"
        },
        "id": "75kqfP6UbOF0",
        "outputId": "d5af1f13-7b34-470f-d980-91191a1ae4cc"
      },
      "execution_count": 7,
      "outputs": [
        {
          "output_type": "stream",
          "name": "stdout",
          "text": [
            "2 2\n",
            "5 3\n",
            "9 4\n",
            "64 55\n",
            "124 60\n",
            "201 77\n",
            "301 100\n",
            "Total 301\n"
          ]
        }
      ]
    },
    {
      "cell_type": "code",
      "source": [
        "for i in range(10):\n",
        "    print('data science',i)\n",
        ""
      ],
      "metadata": {
        "colab": {
          "base_uri": "https://localhost:8080/"
        },
        "id": "qYYf4aPgbTyz",
        "outputId": "a75f4d26-0b95-402c-8156-ee8a0b8c2b97"
      },
      "execution_count": 8,
      "outputs": [
        {
          "output_type": "stream",
          "name": "stdout",
          "text": [
            "data science 0\n",
            "data science 1\n",
            "data science 2\n",
            "data science 3\n",
            "data science 4\n",
            "data science 5\n",
            "data science 6\n",
            "data science 7\n",
            "data science 8\n",
            "data science 9\n"
          ]
        }
      ]
    },
    {
      "cell_type": "code",
      "source": [
        "for i in range(5,10): #n-1\n",
        "    print('data science',i)"
      ],
      "metadata": {
        "colab": {
          "base_uri": "https://localhost:8080/"
        },
        "id": "eX8Tn_M2bX8z",
        "outputId": "3e787ada-1db0-456c-f1e0-2d240ed301b9"
      },
      "execution_count": 9,
      "outputs": [
        {
          "output_type": "stream",
          "name": "stdout",
          "text": [
            "data science 5\n",
            "data science 6\n",
            "data science 7\n",
            "data science 8\n",
            "data science 9\n"
          ]
        }
      ]
    },
    {
      "cell_type": "code",
      "source": [
        "for i in range(5,10,2): # i = i+2\n",
        "    print('data science',i)"
      ],
      "metadata": {
        "colab": {
          "base_uri": "https://localhost:8080/"
        },
        "id": "tteDXetFbctz",
        "outputId": "a0995d5b-95a3-44b0-96b4-f930858fa5ce"
      },
      "execution_count": 10,
      "outputs": [
        {
          "output_type": "stream",
          "name": "stdout",
          "text": [
            "data science 5\n",
            "data science 7\n",
            "data science 9\n"
          ]
        }
      ]
    },
    {
      "cell_type": "code",
      "source": [
        "for i in range(100,50,-10): # i = i+2\n",
        "    print('data science',i)\n",
        ""
      ],
      "metadata": {
        "colab": {
          "base_uri": "https://localhost:8080/"
        },
        "id": "h-FYsvxtbgpT",
        "outputId": "4e8c9cf7-c6ba-4284-884c-5b214af6b470"
      },
      "execution_count": 11,
      "outputs": [
        {
          "output_type": "stream",
          "name": "stdout",
          "text": [
            "data science 100\n",
            "data science 90\n",
            "data science 80\n",
            "data science 70\n",
            "data science 60\n"
          ]
        }
      ]
    },
    {
      "cell_type": "code",
      "source": [],
      "metadata": {
        "id": "-sqFxNxVbrDD"
      },
      "execution_count": null,
      "outputs": []
    }
  ]
}