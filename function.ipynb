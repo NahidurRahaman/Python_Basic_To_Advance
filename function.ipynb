{
  "nbformat": 4,
  "nbformat_minor": 0,
  "metadata": {
    "colab": {
      "provenance": [],
      "authorship_tag": "ABX9TyMxCI7LyrMwQERf8inXQ65v",
      "include_colab_link": true
    },
    "kernelspec": {
      "name": "python3",
      "display_name": "Python 3"
    },
    "language_info": {
      "name": "python"
    }
  },
  "cells": [
    {
      "cell_type": "markdown",
      "metadata": {
        "id": "view-in-github",
        "colab_type": "text"
      },
      "source": [
        "<a href=\"https://colab.research.google.com/github/NahidurRahaman/Python_Basic_To_Advance/blob/main/function.ipynb\" target=\"_parent\"><img src=\"https://colab.research.google.com/assets/colab-badge.svg\" alt=\"Open In Colab\"/></a>"
      ]
    },
    {
      "cell_type": "code",
      "execution_count": 1,
      "metadata": {
        "id": "YlSemKqnagHT"
      },
      "outputs": [],
      "source": [
        "def dept():\n",
        "    print('Data Science!')"
      ]
    },
    {
      "cell_type": "code",
      "source": [
        "dept()"
      ],
      "metadata": {
        "colab": {
          "base_uri": "https://localhost:8080/"
        },
        "id": "qb9tgbEjanVB",
        "outputId": "a1a8c308-4448-4794-855a-9948d72096d4"
      },
      "execution_count": 2,
      "outputs": [
        {
          "output_type": "stream",
          "name": "stdout",
          "text": [
            "Data Science!\n"
          ]
        }
      ]
    },
    {
      "cell_type": "code",
      "source": [
        "def dept_with_names(name):\n",
        "    print(f'My major is {name}')"
      ],
      "metadata": {
        "id": "DvLpg4iWapSc"
      },
      "execution_count": 3,
      "outputs": []
    },
    {
      "cell_type": "code",
      "source": [
        "dept_with_names('Machine learning and ai')"
      ],
      "metadata": {
        "colab": {
          "base_uri": "https://localhost:8080/"
        },
        "id": "e9pq_KOcasTM",
        "outputId": "c2799b94-7750-4ee7-dc22-a8489b41b109"
      },
      "execution_count": 4,
      "outputs": [
        {
          "output_type": "stream",
          "name": "stdout",
          "text": [
            "My major is Machine learning and ai\n"
          ]
        }
      ]
    },
    {
      "cell_type": "code",
      "source": [
        "def name():\n",
        "    print('shakil')\n",
        "    return 1"
      ],
      "metadata": {
        "id": "rsVgKaFRaves"
      },
      "execution_count": 5,
      "outputs": []
    },
    {
      "cell_type": "code",
      "source": [
        "name()"
      ],
      "metadata": {
        "colab": {
          "base_uri": "https://localhost:8080/"
        },
        "id": "lnY3D_9Payg7",
        "outputId": "4faac4a6-46fe-4f70-dd9a-9dd1221d1134"
      },
      "execution_count": 6,
      "outputs": [
        {
          "output_type": "stream",
          "name": "stdout",
          "text": [
            "shakil\n"
          ]
        },
        {
          "output_type": "execute_result",
          "data": {
            "text/plain": [
              "1"
            ]
          },
          "metadata": {},
          "execution_count": 6
        }
      ]
    },
    {
      "cell_type": "code",
      "source": [
        "def add_num():\n",
        "    a = 10\n",
        "    b = 20\n",
        "    return a+b"
      ],
      "metadata": {
        "id": "QO_LFIgCa1H7"
      },
      "execution_count": 7,
      "outputs": []
    },
    {
      "cell_type": "code",
      "source": [
        "add_num()"
      ],
      "metadata": {
        "colab": {
          "base_uri": "https://localhost:8080/"
        },
        "id": "xJSLnuuca4Rr",
        "outputId": "d313424f-5126-47bc-f53b-323847dc8eef"
      },
      "execution_count": 8,
      "outputs": [
        {
          "output_type": "execute_result",
          "data": {
            "text/plain": [
              "30"
            ]
          },
          "metadata": {},
          "execution_count": 8
        }
      ]
    },
    {
      "cell_type": "code",
      "source": [
        "def add_num():\n",
        "    a = 10\n",
        "    b = 20\n",
        "    result = a+b\n",
        "    return result"
      ],
      "metadata": {
        "id": "iStKlOvza6ic"
      },
      "execution_count": 9,
      "outputs": []
    },
    {
      "cell_type": "code",
      "source": [
        "add_num()"
      ],
      "metadata": {
        "colab": {
          "base_uri": "https://localhost:8080/"
        },
        "id": "PvZhMSaca9JN",
        "outputId": "cc29b4c8-84d8-4389-c8c0-dc27390fd71a"
      },
      "execution_count": 10,
      "outputs": [
        {
          "output_type": "execute_result",
          "data": {
            "text/plain": [
              "30"
            ]
          },
          "metadata": {},
          "execution_count": 10
        }
      ]
    },
    {
      "cell_type": "code",
      "source": [
        "def add_num(a, b):\n",
        "    result = a+b\n",
        "    return result"
      ],
      "metadata": {
        "id": "_M3qBnWGbASM"
      },
      "execution_count": 11,
      "outputs": []
    },
    {
      "cell_type": "code",
      "source": [
        "add_num(50, 40)"
      ],
      "metadata": {
        "colab": {
          "base_uri": "https://localhost:8080/"
        },
        "id": "TiS2eDwIbCyr",
        "outputId": "05500e8a-fa24-4879-c63b-1cb8836d3cd0"
      },
      "execution_count": 12,
      "outputs": [
        {
          "output_type": "execute_result",
          "data": {
            "text/plain": [
              "90"
            ]
          },
          "metadata": {},
          "execution_count": 12
        }
      ]
    },
    {
      "cell_type": "code",
      "source": [],
      "metadata": {
        "id": "Gd3NgKa_bQ_s"
      },
      "execution_count": null,
      "outputs": []
    }
  ]
}