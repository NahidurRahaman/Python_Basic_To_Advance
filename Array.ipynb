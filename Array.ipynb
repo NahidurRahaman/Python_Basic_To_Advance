{
  "nbformat": 4,
  "nbformat_minor": 0,
  "metadata": {
    "colab": {
      "provenance": [],
      "authorship_tag": "ABX9TyPNSXDq1ehussZP7UPAIjdx",
      "include_colab_link": true
    },
    "kernelspec": {
      "name": "python3",
      "display_name": "Python 3"
    },
    "language_info": {
      "name": "python"
    }
  },
  "cells": [
    {
      "cell_type": "markdown",
      "metadata": {
        "id": "view-in-github",
        "colab_type": "text"
      },
      "source": [
        "<a href=\"https://colab.research.google.com/github/NahidurRahaman/Python_Basic_To_Advance/blob/main/Array.ipynb\" target=\"_parent\"><img src=\"https://colab.research.google.com/assets/colab-badge.svg\" alt=\"Open In Colab\"/></a>"
      ]
    },
    {
      "cell_type": "code",
      "execution_count": 1,
      "metadata": {
        "id": "beFksopE9ahB"
      },
      "outputs": [],
      "source": [
        "import array as ar"
      ]
    },
    {
      "cell_type": "code",
      "source": [
        "ar1 = ar.array('i',[1,2,3,5,10])"
      ],
      "metadata": {
        "id": "fwBjK1PSCu0y"
      },
      "execution_count": 3,
      "outputs": []
    },
    {
      "cell_type": "code",
      "source": [
        "ar1"
      ],
      "metadata": {
        "colab": {
          "base_uri": "https://localhost:8080/"
        },
        "id": "pfBhqWroCzMV",
        "outputId": "9f39eca0-c99b-49e9-e489-7301bff3ff90"
      },
      "execution_count": 4,
      "outputs": [
        {
          "output_type": "execute_result",
          "data": {
            "text/plain": [
              "array('i', [1, 2, 3, 5, 10])"
            ]
          },
          "metadata": {},
          "execution_count": 4
        }
      ]
    },
    {
      "cell_type": "code",
      "source": [
        "ar1 = ar.array('f',[1,2,3,5,10.5])\n"
      ],
      "metadata": {
        "id": "6TK-9YHdC4bI"
      },
      "execution_count": 5,
      "outputs": []
    },
    {
      "cell_type": "code",
      "source": [
        "ar1"
      ],
      "metadata": {
        "colab": {
          "base_uri": "https://localhost:8080/"
        },
        "id": "UzG3IqKLDAMk",
        "outputId": "ab2d8e3c-737e-4ade-8c7c-75cc60def358"
      },
      "execution_count": 6,
      "outputs": [
        {
          "output_type": "execute_result",
          "data": {
            "text/plain": [
              "array('f', [1.0, 2.0, 3.0, 5.0, 10.5])"
            ]
          },
          "metadata": {},
          "execution_count": 6
        }
      ]
    },
    {
      "cell_type": "code",
      "source": [
        "ar1[0]"
      ],
      "metadata": {
        "colab": {
          "base_uri": "https://localhost:8080/"
        },
        "id": "3DYg4ehFDDMY",
        "outputId": "51e4829b-b48e-461b-f852-a6985238f33c"
      },
      "execution_count": 7,
      "outputs": [
        {
          "output_type": "execute_result",
          "data": {
            "text/plain": [
              "1.0"
            ]
          },
          "metadata": {},
          "execution_count": 7
        }
      ]
    },
    {
      "cell_type": "code",
      "source": [
        "ar1[2:4]"
      ],
      "metadata": {
        "colab": {
          "base_uri": "https://localhost:8080/"
        },
        "id": "eCJXbxjIDZ4I",
        "outputId": "80793b72-35ef-402d-abcb-1d80ad92af81"
      },
      "execution_count": 8,
      "outputs": [
        {
          "output_type": "execute_result",
          "data": {
            "text/plain": [
              "array('f', [3.0, 5.0])"
            ]
          },
          "metadata": {},
          "execution_count": 8
        }
      ]
    },
    {
      "cell_type": "code",
      "source": [
        "ar1.append(8)"
      ],
      "metadata": {
        "id": "foAo-gGvDfdI"
      },
      "execution_count": 9,
      "outputs": []
    },
    {
      "cell_type": "code",
      "source": [
        "ar1"
      ],
      "metadata": {
        "colab": {
          "base_uri": "https://localhost:8080/"
        },
        "id": "n2LFpWQXDikY",
        "outputId": "e744cf9d-4b3d-4710-c847-375f716b588f"
      },
      "execution_count": 10,
      "outputs": [
        {
          "output_type": "execute_result",
          "data": {
            "text/plain": [
              "array('f', [1.0, 2.0, 3.0, 5.0, 10.5, 8.0])"
            ]
          },
          "metadata": {},
          "execution_count": 10
        }
      ]
    },
    {
      "cell_type": "code",
      "source": [
        "del ar1[-1]\n"
      ],
      "metadata": {
        "id": "FYNcwYQaDs4X"
      },
      "execution_count": 11,
      "outputs": []
    },
    {
      "cell_type": "code",
      "source": [
        "ar1"
      ],
      "metadata": {
        "colab": {
          "base_uri": "https://localhost:8080/"
        },
        "id": "RocNo35LDxGX",
        "outputId": "ff5c35f5-7efb-44e3-d68a-d1e3632d9950"
      },
      "execution_count": 12,
      "outputs": [
        {
          "output_type": "execute_result",
          "data": {
            "text/plain": [
              "array('f', [1.0, 2.0, 3.0, 5.0, 10.5])"
            ]
          },
          "metadata": {},
          "execution_count": 12
        }
      ]
    },
    {
      "cell_type": "code",
      "source": [
        "len(ar1)\n"
      ],
      "metadata": {
        "colab": {
          "base_uri": "https://localhost:8080/"
        },
        "id": "0S6g7iKnDzdI",
        "outputId": "98641a1e-995c-46ab-ce4e-0d41582cdf3b"
      },
      "execution_count": 13,
      "outputs": [
        {
          "output_type": "execute_result",
          "data": {
            "text/plain": [
              "5"
            ]
          },
          "metadata": {},
          "execution_count": 13
        }
      ]
    },
    {
      "cell_type": "code",
      "source": [
        "ar1.reverse()"
      ],
      "metadata": {
        "id": "XOgIUZTiD2q5"
      },
      "execution_count": 14,
      "outputs": []
    },
    {
      "cell_type": "code",
      "source": [
        "ar1"
      ],
      "metadata": {
        "colab": {
          "base_uri": "https://localhost:8080/"
        },
        "id": "WjEFaGssD5V1",
        "outputId": "d41d13d4-71c7-4833-d293-25522cdf51f8"
      },
      "execution_count": 15,
      "outputs": [
        {
          "output_type": "execute_result",
          "data": {
            "text/plain": [
              "array('f', [10.5, 5.0, 3.0, 2.0, 1.0])"
            ]
          },
          "metadata": {},
          "execution_count": 15
        }
      ]
    },
    {
      "cell_type": "code",
      "source": [
        "ar1.count(5)"
      ],
      "metadata": {
        "colab": {
          "base_uri": "https://localhost:8080/"
        },
        "id": "ujMubggCD6yn",
        "outputId": "d1020c80-9fd8-4481-c80c-9fc3cd2c58b2"
      },
      "execution_count": 16,
      "outputs": [
        {
          "output_type": "execute_result",
          "data": {
            "text/plain": [
              "1"
            ]
          },
          "metadata": {},
          "execution_count": 16
        }
      ]
    },
    {
      "cell_type": "code",
      "source": [
        "ar1.index(10.5)"
      ],
      "metadata": {
        "colab": {
          "base_uri": "https://localhost:8080/"
        },
        "id": "EaGD7Ar-D9e2",
        "outputId": "5535bc70-fa26-43e2-e68e-ead72637fea6"
      },
      "execution_count": 17,
      "outputs": [
        {
          "output_type": "execute_result",
          "data": {
            "text/plain": [
              "0"
            ]
          },
          "metadata": {},
          "execution_count": 17
        }
      ]
    },
    {
      "cell_type": "code",
      "source": [
        "ar1.pop(3)"
      ],
      "metadata": {
        "colab": {
          "base_uri": "https://localhost:8080/"
        },
        "id": "6_CDImZOEAb4",
        "outputId": "4df65b60-6869-47c9-b601-c95014d6d680"
      },
      "execution_count": 18,
      "outputs": [
        {
          "output_type": "execute_result",
          "data": {
            "text/plain": [
              "2.0"
            ]
          },
          "metadata": {},
          "execution_count": 18
        }
      ]
    },
    {
      "cell_type": "code",
      "source": [
        "ar1"
      ],
      "metadata": {
        "colab": {
          "base_uri": "https://localhost:8080/"
        },
        "id": "zIlQbGYrEFpn",
        "outputId": "8d355b26-aa43-43b5-b7d6-c0608014ce2c"
      },
      "execution_count": 19,
      "outputs": [
        {
          "output_type": "execute_result",
          "data": {
            "text/plain": [
              "array('f', [10.5, 5.0, 3.0, 1.0])"
            ]
          },
          "metadata": {},
          "execution_count": 19
        }
      ]
    },
    {
      "cell_type": "code",
      "source": [
        "ar1.pop()"
      ],
      "metadata": {
        "colab": {
          "base_uri": "https://localhost:8080/"
        },
        "id": "EQNFqvW-EHzI",
        "outputId": "f203811e-6752-4dd4-d123-f2dd12bed93b"
      },
      "execution_count": 20,
      "outputs": [
        {
          "output_type": "execute_result",
          "data": {
            "text/plain": [
              "1.0"
            ]
          },
          "metadata": {},
          "execution_count": 20
        }
      ]
    },
    {
      "cell_type": "code",
      "source": [
        "ar1.remove(3)"
      ],
      "metadata": {
        "id": "v66ssQdBESSE"
      },
      "execution_count": 21,
      "outputs": []
    },
    {
      "cell_type": "code",
      "source": [
        "ar1"
      ],
      "metadata": {
        "colab": {
          "base_uri": "https://localhost:8080/"
        },
        "id": "3maKEc1dEVkV",
        "outputId": "45ee1c0e-f338-41ff-95a6-9f063f38b32e"
      },
      "execution_count": 22,
      "outputs": [
        {
          "output_type": "execute_result",
          "data": {
            "text/plain": [
              "array('f', [10.5, 5.0])"
            ]
          },
          "metadata": {},
          "execution_count": 22
        }
      ]
    },
    {
      "cell_type": "code",
      "source": [
        "r = ar.array('i', [])\n",
        "\n",
        "items = int(input())\n",
        "for i in range(items):\n",
        "    val = int(input())\n",
        "    r.append(val)\n",
        "    print(val)"
      ],
      "metadata": {
        "colab": {
          "base_uri": "https://localhost:8080/"
        },
        "id": "4otnHJCjEXqT",
        "outputId": "abb8110a-5851-40a6-bad9-2b243ccfb524"
      },
      "execution_count": 23,
      "outputs": [
        {
          "output_type": "stream",
          "name": "stdout",
          "text": [
            "1\n",
            "2\n",
            "2\n"
          ]
        }
      ]
    },
    {
      "cell_type": "code",
      "source": [
        "r = ar.array('i', [])\n",
        "\n",
        "items = int(input())\n",
        "for i in range(items):\n",
        "    val = int(input())\n",
        "    r.append(val)\n",
        "print(r)"
      ],
      "metadata": {
        "colab": {
          "base_uri": "https://localhost:8080/"
        },
        "id": "bHSF7cqhEyIX",
        "outputId": "34f0590a-9a3f-49f4-8a4b-7d1ca375a846"
      },
      "execution_count": 24,
      "outputs": [
        {
          "output_type": "stream",
          "name": "stdout",
          "text": [
            "2\n",
            "23\n",
            "43\n",
            "array('i', [23, 43])\n"
          ]
        }
      ]
    },
    {
      "cell_type": "code",
      "source": [],
      "metadata": {
        "id": "wR6pfvtsE8KV"
      },
      "execution_count": null,
      "outputs": []
    }
  ]
}