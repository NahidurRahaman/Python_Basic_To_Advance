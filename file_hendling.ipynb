{
 "cells": [
  {
   "cell_type": "code",
   "execution_count": 10,
   "id": "a703809e-44ee-4ec6-8fde-7b813cbb8dd2",
   "metadata": {},
   "outputs": [],
   "source": [
    "with open(\"input_file.txt\", 'r') as infile:\n",
    "\n",
    "        numbers = infile.readlines()  #\n",
    "\n",
    "squared_numbers = [str(int(num.strip()) ** 2) + \"\\n\" for num in numbers]\n",
    "\n",
    "\n",
    "with open(\"output_file\", 'w') as outfile:\n",
    "\n",
    "    outfile.write(\"\\n\".join(squared_numbers))"
   ]
  },
  {
   "cell_type": "code",
   "execution_count": null,
   "id": "5da88aa6-0e53-44d6-b361-2f38099b6495",
   "metadata": {},
   "outputs": [],
   "source": []
  }
 ],
 "metadata": {
  "kernelspec": {
   "display_name": "Python 3 (ipykernel)",
   "language": "python",
   "name": "python3"
  },
  "language_info": {
   "codemirror_mode": {
    "name": "ipython",
    "version": 3
   },
   "file_extension": ".py",
   "mimetype": "text/x-python",
   "name": "python",
   "nbconvert_exporter": "python",
   "pygments_lexer": "ipython3",
   "version": "3.12.7"
  }
 },
 "nbformat": 4,
 "nbformat_minor": 5
}
