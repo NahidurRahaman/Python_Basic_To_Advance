{
  "nbformat": 4,
  "nbformat_minor": 0,
  "metadata": {
    "colab": {
      "provenance": [],
      "authorship_tag": "ABX9TyOyv3Hqcvs9a+E817aG0Po6",
      "include_colab_link": true
    },
    "kernelspec": {
      "name": "python3",
      "display_name": "Python 3"
    },
    "language_info": {
      "name": "python"
    }
  },
  "cells": [
    {
      "cell_type": "markdown",
      "metadata": {
        "id": "view-in-github",
        "colab_type": "text"
      },
      "source": [
        "<a href=\"https://colab.research.google.com/github/NahidurRahaman/Python_Basic_To_Advance/blob/main/Parameters_Vs_Argumentsipynb.ipynb\" target=\"_parent\"><img src=\"https://colab.research.google.com/assets/colab-badge.svg\" alt=\"Open In Colab\"/></a>"
      ]
    },
    {
      "cell_type": "code",
      "execution_count": 1,
      "metadata": {
        "colab": {
          "base_uri": "https://localhost:8080/"
        },
        "id": "eO1yupvzG3iR",
        "outputId": "70c61fee-84d4-411d-ffb8-dcc5459200a5"
      },
      "outputs": [
        {
          "output_type": "execute_result",
          "data": {
            "text/plain": [
              "40"
            ]
          },
          "metadata": {},
          "execution_count": 1
        }
      ],
      "source": [
        "def add_num(x,y):\n",
        "    result = x+y\n",
        "    return result\n",
        "add_num(10, 30)"
      ]
    },
    {
      "cell_type": "code",
      "source": [
        "def add_num(x,y):\n",
        "    print(x)\n",
        "add_num(10, 30)"
      ],
      "metadata": {
        "colab": {
          "base_uri": "https://localhost:8080/"
        },
        "id": "t30iKTgIHPSc",
        "outputId": "41cc57d2-3853-4e3b-cead-b33f2d820df1"
      },
      "execution_count": 2,
      "outputs": [
        {
          "output_type": "stream",
          "name": "stdout",
          "text": [
            "10\n"
          ]
        }
      ]
    },
    {
      "cell_type": "code",
      "source": [
        "def add_num(x,y):\n",
        "    result = x+y\n",
        "    return result\n",
        "add_num(10, 30)"
      ],
      "metadata": {
        "colab": {
          "base_uri": "https://localhost:8080/"
        },
        "id": "VQ8x8xOIHtQo",
        "outputId": "f9de65c2-cde5-4cc2-968c-6bfed37601d2"
      },
      "execution_count": 3,
      "outputs": [
        {
          "output_type": "execute_result",
          "data": {
            "text/plain": [
              "40"
            ]
          },
          "metadata": {},
          "execution_count": 3
        }
      ]
    },
    {
      "cell_type": "code",
      "source": [
        "def personal(job, income):\n",
        "    print(job)\n",
        "    print(income)\n",
        "personal('data scientist', 200000)"
      ],
      "metadata": {
        "colab": {
          "base_uri": "https://localhost:8080/"
        },
        "id": "Y8rK8p6nH7eW",
        "outputId": "11290128-a706-4e5c-e9aa-001dea19b040"
      },
      "execution_count": 4,
      "outputs": [
        {
          "output_type": "stream",
          "name": "stdout",
          "text": [
            "data scientist\n",
            "200000\n"
          ]
        }
      ]
    },
    {
      "cell_type": "code",
      "source": [
        "def personal(job, income):\n",
        "    print('job = ',job)\n",
        "    print('income =' ,income)\n",
        "personal(income=200000, job='data scientist')"
      ],
      "metadata": {
        "colab": {
          "base_uri": "https://localhost:8080/"
        },
        "id": "SegaS2tsM_WH",
        "outputId": "2029f0bd-ed53-4c98-db6d-fdb68ba8f2a9"
      },
      "execution_count": 5,
      "outputs": [
        {
          "output_type": "stream",
          "name": "stdout",
          "text": [
            "job =  data scientist\n",
            "income = 200000\n"
          ]
        }
      ]
    },
    {
      "cell_type": "code",
      "source": [
        "#Default argument\n",
        "def personal(job, income=10000):\n",
        "    print('job = ',job)\n",
        "\n",
        "    print('income =' ,income)\n",
        "personal('DATA SCIENTIST', 200000)"
      ],
      "metadata": {
        "colab": {
          "base_uri": "https://localhost:8080/"
        },
        "id": "e2AkVArcNCxG",
        "outputId": "3a1f3898-eb7d-4947-a739-b329a608057d"
      },
      "execution_count": 6,
      "outputs": [
        {
          "output_type": "stream",
          "name": "stdout",
          "text": [
            "job =  DATA SCIENTIST\n",
            "income = 200000\n"
          ]
        }
      ]
    },
    {
      "cell_type": "code",
      "source": [
        "def add_num(*x):\n",
        "    print(x)\n",
        "    result = sum(x)\n",
        "    return result\n",
        "\n",
        "add_num(10, 30, 10, 1000,4000)"
      ],
      "metadata": {
        "colab": {
          "base_uri": "https://localhost:8080/"
        },
        "id": "PdX41VMvNJQW",
        "outputId": "a910c48b-a1a0-43b7-bfc2-365f91051864"
      },
      "execution_count": 7,
      "outputs": [
        {
          "output_type": "stream",
          "name": "stdout",
          "text": [
            "(10, 30, 10, 1000, 4000)\n"
          ]
        },
        {
          "output_type": "execute_result",
          "data": {
            "text/plain": [
              "5050"
            ]
          },
          "metadata": {},
          "execution_count": 7
        }
      ]
    },
    {
      "cell_type": "code",
      "source": [
        "def add_num(x, *y):\n",
        "    print(x)\n",
        "    print(y)\n",
        "\n",
        "add_num(10, 30, 10, 1000,4000)"
      ],
      "metadata": {
        "colab": {
          "base_uri": "https://localhost:8080/"
        },
        "id": "xcH2LxuTNOA2",
        "outputId": "2afec09c-7d2e-4609-93fa-234797f2f1a6"
      },
      "execution_count": 8,
      "outputs": [
        {
          "output_type": "stream",
          "name": "stdout",
          "text": [
            "10\n",
            "(30, 10, 1000, 4000)\n"
          ]
        }
      ]
    },
    {
      "cell_type": "code",
      "source": [
        "def personal_data(name, *arg):\n",
        "    print(name)\n",
        "    print(arg)\n",
        "    print(type(arg))\n",
        "\n",
        "personal_data('Rashedul Alam Shakil', 'FAU','Erlangen')"
      ],
      "metadata": {
        "colab": {
          "base_uri": "https://localhost:8080/"
        },
        "id": "A1aMY_KGNQ92",
        "outputId": "f3f1cff6-f226-4cb6-90a9-9bfee53ae4c3"
      },
      "execution_count": 9,
      "outputs": [
        {
          "output_type": "stream",
          "name": "stdout",
          "text": [
            "Rashedul Alam Shakil\n",
            "('FAU', 'Erlangen')\n",
            "<class 'tuple'>\n"
          ]
        }
      ]
    },
    {
      "cell_type": "code",
      "source": [
        "def personal_data(name, **arg):\n",
        "    print(name)\n",
        "    print(arg)\n",
        "    print(type(arg))\n",
        "personal_data('Rashedul Alam Shakil', vrsity = 'FAU', city = 'Erlangen')"
      ],
      "metadata": {
        "colab": {
          "base_uri": "https://localhost:8080/"
        },
        "id": "7kptn-5PN7VW",
        "outputId": "3b4d44e0-9369-4538-957f-336d25af34ce"
      },
      "execution_count": 10,
      "outputs": [
        {
          "output_type": "stream",
          "name": "stdout",
          "text": [
            "Rashedul Alam Shakil\n",
            "{'vrsity': 'FAU', 'city': 'Erlangen'}\n",
            "<class 'dict'>\n"
          ]
        }
      ]
    },
    {
      "cell_type": "code",
      "source": [],
      "metadata": {
        "id": "Z6FKRHc_OBaG"
      },
      "execution_count": null,
      "outputs": []
    }
  ]
}