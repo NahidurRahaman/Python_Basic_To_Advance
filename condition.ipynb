{
  "nbformat": 4,
  "nbformat_minor": 0,
  "metadata": {
    "colab": {
      "provenance": [],
      "authorship_tag": "ABX9TyMacZTXEv3rBc5ncZexIfkv",
      "include_colab_link": true
    },
    "kernelspec": {
      "name": "python3",
      "display_name": "Python 3"
    },
    "language_info": {
      "name": "python"
    }
  },
  "cells": [
    {
      "cell_type": "markdown",
      "metadata": {
        "id": "view-in-github",
        "colab_type": "text"
      },
      "source": [
        "<a href=\"https://colab.research.google.com/github/NahidurRahaman/Python_Basic_To_Advance/blob/main/condition.ipynb\" target=\"_parent\"><img src=\"https://colab.research.google.com/assets/colab-badge.svg\" alt=\"Open In Colab\"/></a>"
      ]
    },
    {
      "cell_type": "code",
      "execution_count": 2,
      "metadata": {
        "id": "5imO7KVxhCUb",
        "colab": {
          "base_uri": "https://localhost:8080/"
        },
        "outputId": "19e0239e-8fad-4517-a568-761df284fe64"
      },
      "outputs": [
        {
          "output_type": "stream",
          "name": "stdout",
          "text": [
            "y is greater than x\n",
            "data science\n"
          ]
        }
      ],
      "source": [
        "x = 50\n",
        "y = 100\n",
        "\n",
        "if x>y:\n",
        "    print('x is greater than y')\n",
        "if y>x:\n",
        "    print('y is greater than x')\n",
        "    print('data science')\n",
        "\n",
        "else:\n",
        "    print('Out!')"
      ]
    },
    {
      "cell_type": "code",
      "source": [
        "x = 50\n",
        "y = 100\n",
        "\n",
        "if x>y:\n",
        "    print('x is greater than y')\n",
        "elif y>x:\n",
        "    print('y is greater than x')\n",
        "    print('data science')\n",
        "    if x == y:\n",
        "        print('Not equal')\n",
        "\n",
        "else:\n",
        "    print('Out!')"
      ],
      "metadata": {
        "colab": {
          "base_uri": "https://localhost:8080/"
        },
        "id": "U8q62HGriDKK",
        "outputId": "01ba41ba-9d04-49e5-b59b-ccd620c2d64e"
      },
      "execution_count": 3,
      "outputs": [
        {
          "output_type": "stream",
          "name": "stdout",
          "text": [
            "y is greater than x\n",
            "data science\n"
          ]
        }
      ]
    },
    {
      "cell_type": "code",
      "source": [
        "num = float(input('Enter any number : '))\n",
        "\n",
        "if num % 2 == 0:\n",
        "    if num % 5 ==0:\n",
        "        print(num,' Divisible bt 5 and 2')\n",
        "    else:\n",
        "        print('No 1')\n",
        "else:\n",
        "    print('No 2')"
      ],
      "metadata": {
        "colab": {
          "base_uri": "https://localhost:8080/"
        },
        "id": "l9q9Yw1XiKDV",
        "outputId": "0cb9ea62-c50b-431d-f1b3-91a83de76cd2"
      },
      "execution_count": 4,
      "outputs": [
        {
          "output_type": "stream",
          "name": "stdout",
          "text": [
            "Enter any number : 19\n",
            "No 2\n"
          ]
        }
      ]
    },
    {
      "cell_type": "code",
      "source": [
        "amount = 0\n",
        "\n",
        "net_units = float(input('Enter your unit value : '))\n",
        "\n",
        "if net_units <= 100:\n",
        "    amonut = 0\n",
        "\n",
        "\n",
        "elif net_units > 100 and net_units <= 200:\n",
        "    amount = (net_units - 100) * 5\n",
        "\n",
        "\n",
        "elif net_units>200:\n",
        "    amount = ((net_units - 200) *10) + 500\n",
        "\n",
        "print('amount is ',amount)"
      ],
      "metadata": {
        "colab": {
          "base_uri": "https://localhost:8080/"
        },
        "id": "0YaP5f9riOS0",
        "outputId": "3a49085d-f3b2-4172-df60-52321ce5bce4"
      },
      "execution_count": 5,
      "outputs": [
        {
          "output_type": "stream",
          "name": "stdout",
          "text": [
            "Enter your unit value : 25\n",
            "amount is  0\n"
          ]
        }
      ]
    },
    {
      "cell_type": "code",
      "source": [
        "## 01. Take values of length and breadth of a rectangle from user and check if it is square or not.\n",
        "#Input the length from user\n",
        "length = float(input('Enter the length : '))\n",
        "\n",
        "#Input the breadth from user\n",
        "breadth = float(input('Enter the breadth : '))\n",
        "\n",
        "#square is a rectangle whose length and breadth are equal and commonly called as sides which are of equal length.\n",
        "\n",
        "if breadth == length :\n",
        "    print('Yes, It is Square')\n",
        "\n",
        "else:\n",
        "    print('It is not Square')"
      ],
      "metadata": {
        "colab": {
          "base_uri": "https://localhost:8080/"
        },
        "id": "c3aOM8b1iYw1",
        "outputId": "0e2dd77c-2f4f-401a-a2fa-08737ded206d"
      },
      "execution_count": 1,
      "outputs": [
        {
          "output_type": "stream",
          "name": "stdout",
          "text": [
            "Enter the length : 10\n",
            "Enter the breadth : 9\n",
            "It is not Square\n"
          ]
        }
      ]
    },
    {
      "cell_type": "code",
      "source": [
        "# Assignment 02 : Solved\n",
        "# 02. Take three int values from user and print greatest among them.\n",
        "num1 = int(input(\"Enter first number: \"))\n",
        "num2 = int(input(\"Enter second number: \"))\n",
        "num3 = int(input(\"Enter third number: \"))\n",
        "\n",
        "if (num1 > num2) and (num1 > num3):\n",
        "    largest = num1\n",
        "\n",
        "elif (num2 > num1) and (num2 > num3):\n",
        "    largest = num2\n",
        "\n",
        "else:\n",
        "    largest = num3\n",
        "\n",
        "print(\"The largest number is\",largest)"
      ],
      "metadata": {
        "colab": {
          "base_uri": "https://localhost:8080/"
        },
        "id": "t3WrNQRhQfmc",
        "outputId": "dbee41a6-3031-40ab-d468-b07e906e9a6c"
      },
      "execution_count": 2,
      "outputs": [
        {
          "output_type": "stream",
          "name": "stdout",
          "text": [
            "Enter first number: 25\n",
            "Enter second number: 25\n",
            "Enter third number: 78\n",
            "The largest number is 78\n"
          ]
        }
      ]
    },
    {
      "cell_type": "code",
      "source": [
        "# Assignment 03 : Solved\n",
        "# 03. A student will not be allowed to sit in exam if his/her attendence is less than 75%.\n",
        "held = int(input('Number of classes held : '))\n",
        "attended = int(input('Number of classes attended : '))\n",
        "\n",
        "attended_ratio = (attended/held) * 100"
      ],
      "metadata": {
        "colab": {
          "base_uri": "https://localhost:8080/"
        },
        "id": "vLmplZMgQwW1",
        "outputId": "0f471308-608b-4010-97a5-3d62c1f0a707"
      },
      "execution_count": 3,
      "outputs": [
        {
          "name": "stdout",
          "output_type": "stream",
          "text": [
            "Number of classes held : 55\n",
            "Number of classes attended : 45\n"
          ]
        }
      ]
    },
    {
      "cell_type": "code",
      "source": [
        "if attended_ratio >= 75:\n",
        "    print('You are allowed')\n",
        "else:\n",
        "    print('You are not allowed')"
      ],
      "metadata": {
        "colab": {
          "base_uri": "https://localhost:8080/"
        },
        "id": "zeQ3JwHLQ_-V",
        "outputId": "06ecfc66-ba9a-459b-b6f7-0d1469a95278"
      },
      "execution_count": 4,
      "outputs": [
        {
          "output_type": "stream",
          "name": "stdout",
          "text": [
            "You are allowed\n"
          ]
        }
      ]
    },
    {
      "cell_type": "code",
      "source": [
        "held = int(input('Number of classes held : '))\n",
        "attended = int(input('Number of classes attended : '))\n",
        "\n",
        "attended_ratio = (attended/held) * 100\n",
        "\n",
        "if attended_ratio >= 75:\n",
        "    print('You are allowed')\n",
        "else:\n",
        "    print('You are not allowed')\n"
      ],
      "metadata": {
        "colab": {
          "base_uri": "https://localhost:8080/"
        },
        "id": "W3VCefo5RKl1",
        "outputId": "7974c55e-dcd5-4fed-bcb1-8556df57200c"
      },
      "execution_count": 5,
      "outputs": [
        {
          "output_type": "stream",
          "name": "stdout",
          "text": [
            "Number of classes held : 90\n",
            "Number of classes attended : 78\n",
            "You are allowed\n"
          ]
        }
      ]
    },
    {
      "cell_type": "code",
      "source": [
        "'''\n",
        "A school has following rules for grading system:-\n",
        "Below 25 – F, 25 to 44 – E, 45 to 49 – D, 50 to 59 – C, 60 to 79 – B, 80 to 89 - A, Above 90 - A+\n",
        "\n",
        "QUESTION:- Now, Ask user to enter marks and print the corresponding grade.\n",
        "\n",
        "'''\n"
      ],
      "metadata": {
        "colab": {
          "base_uri": "https://localhost:8080/",
          "height": 53
        },
        "id": "3N7DjvQuRQQV",
        "outputId": "df5c676f-e1d1-4421-e6d3-8fc81fc4520f"
      },
      "execution_count": 6,
      "outputs": [
        {
          "output_type": "execute_result",
          "data": {
            "text/plain": [
              "'\\nA school has following rules for grading system:-\\nBelow 25 – F, 25 to 44 – E, 45 to 49 – D, 50 to 59 – C, 60 to 79 – B, 80 to 89 - A, Above 90 - A+\\n\\nQUESTION:- Now, Ask user to enter marks and print the corresponding grade.\\n\\n'"
            ],
            "application/vnd.google.colaboratory.intrinsic+json": {
              "type": "string"
            }
          },
          "metadata": {},
          "execution_count": 6
        }
      ]
    },
    {
      "cell_type": "code",
      "source": [
        "marks = float(input('Enter your marks : '))\n",
        "\n",
        "if marks < 25:\n",
        "    print('You are Genius Like me :)')\n",
        "\n",
        "elif marks>=25 and marks<=44:\n",
        "    print('E Grade, Pass korco mama! You also tene tune Genius!')\n",
        "\n",
        "elif marks>=45 and marks<=49:\n",
        "    print('D Grade')\n",
        "\n",
        "elif marks>=50 and marks<=59:\n",
        "    print('C Grade')\n",
        "\n",
        "elif marks>=60 and marks<=79:\n",
        "    print('B Grade')\n",
        "\n",
        "elif marks>=80 and marks<=89:\n",
        "    print('A Grade')\n",
        "\n",
        "else:\n",
        "    print('You are a loser!!!')"
      ],
      "metadata": {
        "colab": {
          "base_uri": "https://localhost:8080/"
        },
        "id": "9FUBCdyfRZqG",
        "outputId": "fc198a59-7629-4ca3-e098-9d7072f0712d"
      },
      "execution_count": 7,
      "outputs": [
        {
          "output_type": "stream",
          "name": "stdout",
          "text": [
            "Enter your marks : 78\n",
            "B Grade\n"
          ]
        }
      ]
    },
    {
      "cell_type": "code",
      "source": [],
      "metadata": {
        "id": "594ip3QCRe_l"
      },
      "execution_count": null,
      "outputs": []
    }
  ]
}